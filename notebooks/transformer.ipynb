{
 "cells": [
  {
   "cell_type": "code",
   "execution_count": null,
   "metadata": {},
   "outputs": [],
   "source": [
    "import torch\n",
    "device = \"cuda\""
   ]
  },
  {
   "cell_type": "code",
   "execution_count": null,
   "metadata": {},
   "outputs": [],
   "source": [
    "decoder_layer = torch.nn.TransformerDecoderLayer(d_model=30522, nhead=3).to(device)\n",
    "transformer_decoder = torch.nn.TransformerDecoder(decoder_layer, num_layers=6).to(device)\n",
    "memory = torch.rand(10, 32, 30522)\n",
    "tgt = torch.rand(20, 32, 30522)\n",
    "out = transformer_decoder(tgt, memory)"
   ]
  }
 ],
 "metadata": {
  "kernelspec": {
   "display_name": "recsys-zYxsoNGC-py3.11",
   "language": "python",
   "name": "python3"
  },
  "language_info": {
   "name": "python",
   "version": "3.11.11"
  }
 },
 "nbformat": 4,
 "nbformat_minor": 2
}
