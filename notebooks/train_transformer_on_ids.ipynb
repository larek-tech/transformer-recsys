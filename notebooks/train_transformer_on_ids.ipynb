{
 "cells": [
  {
   "cell_type": "code",
   "execution_count": 1,
   "metadata": {},
   "outputs": [
    {
     "name": "stderr",
     "output_type": "stream",
     "text": [
      "\u001b[32m2024-12-16 19:21:48.761\u001b[0m | \u001b[1mINFO    \u001b[0m | \u001b[36mrecsys.config\u001b[0m:\u001b[36m<module>\u001b[0m:\u001b[36m11\u001b[0m - \u001b[1mPROJ_ROOT path is: /home/artem216/transformer-recsys\u001b[0m\n"
     ]
    }
   ],
   "source": [
    "import pandas as pd\n",
    "import sys\n",
    "sys.path.append(\"../\")\n",
    "from recsys import config"
   ]
  },
  {
   "cell_type": "markdown",
   "metadata": {},
   "source": [
    "# Preproc"
   ]
  },
  {
   "cell_type": "code",
   "execution_count": 3,
   "metadata": {},
   "outputs": [],
   "source": [
    "# Загрузка данных\n",
    "transactions = pd.read_csv(config.PROCESSED_DATA_DIR / 'tx.csv')\n",
    "\n",
    "# Преобразование столбца t_dat в формат временной метки\n",
    "transactions['t_dat'] = pd.to_datetime(transactions['t_dat'])\n",
    "\n",
    "# Сортировка по значению t_dat\n",
    "transactions = transactions.sort_values(by='t_dat')\n",
    "\n",
    "# Группировка по customer_id и создание списка покупок\n",
    "grouped_transactions = transactions.groupby('customer_id')['article_id'].apply(list).reset_index()\n",
    "\n",
    "# Переименование столбца\n",
    "grouped_transactions.columns = ['customer_id', 'articles']\n",
    "\n",
    "# Сохранение отфильтрованного датасета\n",
    "grouped_transactions.to_csv(config.PROCESSED_DATA_DIR / 'grouped_transactions.csv', index=False)\n"
   ]
  },
  {
   "cell_type": "code",
   "execution_count": 11,
   "metadata": {},
   "outputs": [
    {
     "data": {
      "text/html": [
       "<div>\n",
       "<style scoped>\n",
       "    .dataframe tbody tr th:only-of-type {\n",
       "        vertical-align: middle;\n",
       "    }\n",
       "\n",
       "    .dataframe tbody tr th {\n",
       "        vertical-align: top;\n",
       "    }\n",
       "\n",
       "    .dataframe thead th {\n",
       "        text-align: right;\n",
       "    }\n",
       "</style>\n",
       "<table border=\"1\" class=\"dataframe\">\n",
       "  <thead>\n",
       "    <tr style=\"text-align: right;\">\n",
       "      <th></th>\n",
       "      <th>customer_id</th>\n",
       "      <th>articles</th>\n",
       "    </tr>\n",
       "  </thead>\n",
       "  <tbody>\n",
       "    <tr>\n",
       "      <th>0</th>\n",
       "      <td>00000dbacae5abe5e23885899a1fa44253a17956c6d1c3...</td>\n",
       "      <td>[568601006, 568601006, 745232001, 795440001]</td>\n",
       "    </tr>\n",
       "    <tr>\n",
       "      <th>1</th>\n",
       "      <td>0000423b00ade91418cceaf3b26c6af3dd342b51fd051e...</td>\n",
       "      <td>[673677002, 723529001, 640021012, 351484002, 6...</td>\n",
       "    </tr>\n",
       "    <tr>\n",
       "      <th>2</th>\n",
       "      <td>000058a12d5b43e67d225668fa1f8d618c13dc232df0ca...</td>\n",
       "      <td>[351484002, 351484002, 723529001]</td>\n",
       "    </tr>\n",
       "    <tr>\n",
       "      <th>3</th>\n",
       "      <td>00006413d8573cd20ed7128e53b7b13819fe5cfc2d801f...</td>\n",
       "      <td>[730683050]</td>\n",
       "    </tr>\n",
       "    <tr>\n",
       "      <th>4</th>\n",
       "      <td>000064249685c11552da43ef22a5030f35a147f723d5b0...</td>\n",
       "      <td>[738133005, 680265002]</td>\n",
       "    </tr>\n",
       "    <tr>\n",
       "      <th>5</th>\n",
       "      <td>0000757967448a6cb83efb3ea7a3fb9d418ac7adf2379d...</td>\n",
       "      <td>[715624008, 719530003, 448509014]</td>\n",
       "    </tr>\n",
       "    <tr>\n",
       "      <th>6</th>\n",
       "      <td>00007d2de826758b65a93dd24ce629ed66842531df6699...</td>\n",
       "      <td>[349301001, 351933001, 578478001, 730683001, 1...</td>\n",
       "    </tr>\n",
       "    <tr>\n",
       "      <th>7</th>\n",
       "      <td>00008469a21b50b3d147c97135e25b4201a8c58997f787...</td>\n",
       "      <td>[673677004]</td>\n",
       "    </tr>\n",
       "    <tr>\n",
       "      <th>8</th>\n",
       "      <td>0000945f66de1a11d9447609b8b41b1bc987ba185a5496...</td>\n",
       "      <td>[760084003]</td>\n",
       "    </tr>\n",
       "    <tr>\n",
       "      <th>9</th>\n",
       "      <td>00009d946eec3ea54add5ba56d5210ea898def4b46c685...</td>\n",
       "      <td>[573085010, 573085010, 643985001, 636455003, 5...</td>\n",
       "    </tr>\n",
       "  </tbody>\n",
       "</table>\n",
       "</div>"
      ],
      "text/plain": [
       "                                         customer_id  \\\n",
       "0  00000dbacae5abe5e23885899a1fa44253a17956c6d1c3...   \n",
       "1  0000423b00ade91418cceaf3b26c6af3dd342b51fd051e...   \n",
       "2  000058a12d5b43e67d225668fa1f8d618c13dc232df0ca...   \n",
       "3  00006413d8573cd20ed7128e53b7b13819fe5cfc2d801f...   \n",
       "4  000064249685c11552da43ef22a5030f35a147f723d5b0...   \n",
       "5  0000757967448a6cb83efb3ea7a3fb9d418ac7adf2379d...   \n",
       "6  00007d2de826758b65a93dd24ce629ed66842531df6699...   \n",
       "7  00008469a21b50b3d147c97135e25b4201a8c58997f787...   \n",
       "8  0000945f66de1a11d9447609b8b41b1bc987ba185a5496...   \n",
       "9  00009d946eec3ea54add5ba56d5210ea898def4b46c685...   \n",
       "\n",
       "                                            articles  \n",
       "0       [568601006, 568601006, 745232001, 795440001]  \n",
       "1  [673677002, 723529001, 640021012, 351484002, 6...  \n",
       "2                  [351484002, 351484002, 723529001]  \n",
       "3                                        [730683050]  \n",
       "4                             [738133005, 680265002]  \n",
       "5                  [715624008, 719530003, 448509014]  \n",
       "6  [349301001, 351933001, 578478001, 730683001, 1...  \n",
       "7                                        [673677004]  \n",
       "8                                        [760084003]  \n",
       "9  [573085010, 573085010, 643985001, 636455003, 5...  "
      ]
     },
     "execution_count": 11,
     "metadata": {},
     "output_type": "execute_result"
    }
   ],
   "source": [
    "grouped_transactions.head(10)"
   ]
  },
  {
   "cell_type": "code",
   "execution_count": 26,
   "metadata": {},
   "outputs": [
    {
     "data": {
      "text/plain": [
       "np.int64(662)"
      ]
     },
     "execution_count": 26,
     "metadata": {},
     "output_type": "execute_result"
    }
   ],
   "source": [
    "max_lenght = grouped_transactions[\"articles\"].apply(lambda x: len(x)).max()\n",
    "max_lenght"
   ]
  },
  {
   "cell_type": "code",
   "execution_count": null,
   "metadata": {},
   "outputs": [],
   "source": [
    "mask = grouped_transactions[\"articles\"]."
   ]
  },
  {
   "cell_type": "code",
   "execution_count": 36,
   "metadata": {},
   "outputs": [],
   "source": [
    "foo_df = grouped_transactions[grouped_transactions['articles'].map(len) > 2]"
   ]
  },
  {
   "cell_type": "markdown",
   "metadata": {},
   "source": [
    "# Train test split"
   ]
  },
  {
   "cell_type": "code",
   "execution_count": 42,
   "metadata": {},
   "outputs": [],
   "source": [
    "import numpy as np"
   ]
  },
  {
   "cell_type": "code",
   "execution_count": 47,
   "metadata": {},
   "outputs": [],
   "source": [
    "test_size = 0.2\n",
    "num_samples = foo_df.shape[0]\n",
    "num_test_samples = int(num_samples * test_size)\n",
    "random_state = 42\n",
    "\n",
    "# Перемешивание индексов\n",
    "np.random.seed(random_state)\n",
    "indices = np.arange(num_samples)\n",
    "np.random.shuffle(indices)"
   ]
  },
  {
   "cell_type": "code",
   "execution_count": 48,
   "metadata": {},
   "outputs": [],
   "source": [
    "# Разделение индексов на обучающую и тестовую выборки\n",
    "test_indices = indices[:num_test_samples]\n",
    "train_indices = indices[num_test_samples:]\n",
    "\n",
    "X_train = foo_df.iloc[train_indices]\n",
    "X_test = foo_df.iloc[test_indices]"
   ]
  },
  {
   "cell_type": "code",
   "execution_count": 50,
   "metadata": {},
   "outputs": [],
   "source": [
    "X_train.to_csv(config.PROCESSED_DATA_DIR / \"x_train_ids.csv\")\n",
    "X_test.to_csv(config.PROCESSED_DATA_DIR / \"x_test_ids.csv\")"
   ]
  },
  {
   "cell_type": "code",
   "execution_count": null,
   "metadata": {},
   "outputs": [],
   "source": []
  }
 ],
 "metadata": {
  "kernelspec": {
   "display_name": "recsys-zYxsoNGC-py3.11",
   "language": "python",
   "name": "python3"
  },
  "language_info": {
   "codemirror_mode": {
    "name": "ipython",
    "version": 3
   },
   "file_extension": ".py",
   "mimetype": "text/x-python",
   "name": "python",
   "nbconvert_exporter": "python",
   "pygments_lexer": "ipython3",
   "version": "3.11.11"
  }
 },
 "nbformat": 4,
 "nbformat_minor": 2
}
