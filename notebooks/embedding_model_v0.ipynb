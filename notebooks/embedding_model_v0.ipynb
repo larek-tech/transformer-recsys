{
 "cells": [
  {
   "cell_type": "code",
   "execution_count": 1,
   "metadata": {
    "_cell_guid": "b1076dfc-b9ad-4769-8c92-a6c4dae69d19",
    "_uuid": "8f2839f25d086af736a60e9eeb907d3b93b6e0e5",
    "execution": {
     "iopub.execute_input": "2024-12-02T18:24:37.254779Z",
     "iopub.status.busy": "2024-12-02T18:24:37.254083Z",
     "iopub.status.idle": "2024-12-02T18:24:44.613171Z",
     "shell.execute_reply": "2024-12-02T18:24:44.612425Z",
     "shell.execute_reply.started": "2024-12-02T18:24:37.254746Z"
    },
    "trusted": true
   },
   "outputs": [],
   "source": [
    "import math\n",
    "\n",
    "import torch\n",
    "import torch.nn.functional as F\n",
    "from pytorch_lightning import LightningModule\n",
    "from torchvision import models\n",
    "from transformers import get_cosine_schedule_with_warmup\n",
    "from torch.utils.data import Dataset, DataLoader\n",
    "from sklearn.model_selection import train_test_split\n",
    "from transformers import BertTokenizer\n",
    "\n",
    "\n",
    "import plotly.express as px\n",
    "import plotly.graph_objects as go\n",
    "from sklearn.manifold import TSNE\n",
    "\n",
    "import numpy as np\n",
    "import pandas as pd\n",
    "\n",
    "import matplotlib.pyplot as plt\n",
    "\n",
    "import torch\n",
    "from tqdm import tqdm\n",
    "\n",
    "from sklearn.manifold import TSNE\n",
    "\n",
    "\n",
    "from pathlib import Path\n",
    "import os"
   ]
  },
  {
   "cell_type": "code",
   "execution_count": 2,
   "metadata": {},
   "outputs": [],
   "source": [
    "RANDOM_STATE = 23115\n",
    "np.random.seed(RANDOM_STATE)"
   ]
  },
  {
   "cell_type": "code",
   "execution_count": 3,
   "metadata": {
    "execution": {
     "iopub.execute_input": "2024-12-02T18:24:44.614876Z",
     "iopub.status.busy": "2024-12-02T18:24:44.614460Z",
     "iopub.status.idle": "2024-12-02T18:24:45.917875Z",
     "shell.execute_reply": "2024-12-02T18:24:45.917183Z",
     "shell.execute_reply.started": "2024-12-02T18:24:44.614829Z"
    },
    "trusted": true
   },
   "outputs": [],
   "source": [
    "TOKENIZER = BertTokenizer.from_pretrained(\"bert-base-uncased\")\n",
    "\n",
    "CLS_IDX = TOKENIZER.convert_tokens_to_ids(\"[CLS]\")\n",
    "PAD_IDX = TOKENIZER.convert_tokens_to_ids(\"[PAD]\")\n",
    "SEP_IDX = TOKENIZER.convert_tokens_to_ids(\"[SEP]\")\n",
    "\n",
    "\n",
    "vocab_size = TOKENIZER.vocab_size\n",
    "\n",
    "def tokenize(text: str):\n",
    "    raw_tokens = TOKENIZER.encode(text)\n",
    "    return raw_tokens\n",
    "\n",
    "\n",
    "def pad_list(\n",
    "    list_integers, context_size: int = 90, pad_val: int = PAD_IDX, mode=\"right\"\n",
    "):\n",
    "    list_integers = list_integers[:context_size]\n",
    "\n",
    "    if len(list_integers) < context_size:\n",
    "        if mode == \"left\":\n",
    "            list_integers = [pad_val] * (\n",
    "                context_size - len(list_integers)\n",
    "            ) + list_integers\n",
    "        else:\n",
    "            list_integers = list_integers + [pad_val] * (\n",
    "                context_size - len(list_integers)\n",
    "            )\n",
    "\n",
    "    return list_integers"
   ]
  },
  {
   "cell_type": "code",
   "execution_count": 4,
   "metadata": {
    "execution": {
     "iopub.execute_input": "2024-12-02T18:24:45.919213Z",
     "iopub.status.busy": "2024-12-02T18:24:45.918872Z",
     "iopub.status.idle": "2024-12-02T18:24:45.925611Z",
     "shell.execute_reply": "2024-12-02T18:24:45.924702Z",
     "shell.execute_reply.started": "2024-12-02T18:24:45.919167Z"
    },
    "trusted": true
   },
   "outputs": [
    {
     "data": {
      "text/plain": [
       "30522"
      ]
     },
     "execution_count": 4,
     "metadata": {},
     "output_type": "execute_result"
    }
   ],
   "source": [
    "vocab_size"
   ]
  },
  {
   "cell_type": "code",
   "execution_count": 5,
   "metadata": {
    "execution": {
     "iopub.execute_input": "2024-12-02T18:24:45.927685Z",
     "iopub.status.busy": "2024-12-02T18:24:45.927430Z",
     "iopub.status.idle": "2024-12-02T18:24:45.938502Z",
     "shell.execute_reply": "2024-12-02T18:24:45.937639Z",
     "shell.execute_reply.started": "2024-12-02T18:24:45.927660Z"
    },
    "trusted": true
   },
   "outputs": [],
   "source": [
    "class PositionalEncoding(torch.nn.Module):\n",
    "\n",
    "    def __init__(self,\n",
    "            d_model: int,\n",
    "            dropout: float = 0.1,\n",
    "            max_len: int = 5000,\n",
    "        ):\n",
    "        super().__init__()\n",
    "        self.dropout = torch.nn.Dropout(p=dropout)\n",
    "\n",
    "        position = torch.arange(max_len).unsqueeze(1)\n",
    "        div_term = torch.exp(\n",
    "            torch.arange(0, d_model, 2) * (-math.log(10000.0) / d_model)\n",
    "        )\n",
    "        pe = torch.zeros(1, max_len, d_model)\n",
    "        pe[0:, :, 0::2] = torch.sin(position * div_term)\n",
    "        pe[0:, :, 1::2] = torch.cos(position * div_term)\n",
    "        # позиционное кодирование\n",
    "        self.register_buffer(\"pe\", pe)\n",
    "\n",
    "        self.d_model = d_model\n",
    "\n",
    "    def forward(self, x: torch.Tensor) -> torch.Tensor:\n",
    "        \"\"\"\n",
    "        Args:\n",
    "            x: Tensor, shape [seq_len, batch_size, embedding_dim]\n",
    "        \"\"\"\n",
    "\n",
    "        x = x + self.pe[:, : x.size(1)] / math.sqrt(self.d_model)\n",
    "\n",
    "        return self.dropout(x)"
   ]
  },
  {
   "cell_type": "code",
   "execution_count": 6,
   "metadata": {
    "execution": {
     "iopub.execute_input": "2024-12-02T18:24:45.939541Z",
     "iopub.status.busy": "2024-12-02T18:24:45.939316Z",
     "iopub.status.idle": "2024-12-02T18:24:45.954686Z",
     "shell.execute_reply": "2024-12-02T18:24:45.953964Z",
     "shell.execute_reply.started": "2024-12-02T18:24:45.939518Z"
    },
    "trusted": true
   },
   "outputs": [],
   "source": [
    "class Cola(LightningModule):\n",
    "\n",
    "    def __init__(\n",
    "        self,\n",
    "        lr=0.001,\n",
    "        use_pretrained=False,\n",
    "        dropout=0.2,\n",
    "        d_model=128,\n",
    "        n_vocab=30_522,\n",
    "        smoothing=0.1,\n",
    "    ):\n",
    "        super().__init__()\n",
    "        self.dropout = dropout\n",
    "\n",
    "        self.lr = lr\n",
    "        self.d_model = d_model\n",
    "        self.n_vocab = n_vocab\n",
    "        self.smoothing = smoothing\n",
    "\n",
    "        # Text embeddings and encoder\n",
    "        self.item_embeddings = torch.nn.Embedding(self.n_vocab, self.d_model)\n",
    "        self.pos_encoder = PositionalEncoding(\n",
    "            d_model=self.d_model, dropout=self.dropout\n",
    "        )\n",
    "        encoder_layer = torch.nn.TransformerEncoderLayer(\n",
    "            d_model=self.d_model, nhead=4, dropout=self.dropout, batch_first=True\n",
    "        )\n",
    "        self.encoder = torch.nn.TransformerEncoder(encoder_layer, num_layers=4)\n",
    "\n",
    "        # Output layer to project to vocabulary size\n",
    "        self.output_layer = torch.nn.Linear(self.d_model, self.n_vocab)\n",
    "\n",
    "        self.save_hyperparameters()\n",
    "\n",
    "\n",
    "    def encode_text(self, x):\n",
    "        x = self.item_embeddings(x)\n",
    "        x = self.pos_encoder(x)\n",
    "        x = self.encoder(x)\n",
    "        x = self.output_layer(x)  # Add projection to vocab size\n",
    "\n",
    "        return x  # Return full sequence output for language modeling\n",
    "\n",
    "    def forward(self, x):\n",
    "        x = self.item_embeddings(x)\n",
    "        x = self.pos_encoder(x)\n",
    "        x = self.encoder(x)\n",
    "        x = self.output_layer(x)  # Project to vocab size\n",
    "        return x"
   ]
  },
  {
   "cell_type": "markdown",
   "metadata": {},
   "source": [
    "# Dataset"
   ]
  },
  {
   "cell_type": "code",
   "execution_count": 7,
   "metadata": {
    "execution": {
     "iopub.execute_input": "2024-12-02T18:24:45.955979Z",
     "iopub.status.busy": "2024-12-02T18:24:45.955711Z",
     "iopub.status.idle": "2024-12-02T18:24:45.971612Z",
     "shell.execute_reply": "2024-12-02T18:24:45.971020Z",
     "shell.execute_reply.started": "2024-12-02T18:24:45.955955Z"
    },
    "trusted": true
   },
   "outputs": [],
   "source": [
    "class TextDataset(Dataset):\n",
    "    def __init__(self, texts, tokenizer, pad_list):\n",
    "        self.texts = texts\n",
    "        self.tokenizer = tokenizer\n",
    "        self.pad_list = pad_list\n",
    "\n",
    "    def __len__(self):\n",
    "        return len(self.texts)\n",
    "\n",
    "    def __getitem__(self, idx):\n",
    "        text = self.texts[idx]\n",
    "        text_t = self.tokenizer(text)\n",
    "        text_t = torch.tensor(self.pad_list(text_t), dtype=torch.long)\n",
    "        return text_t"
   ]
  },
  {
   "cell_type": "code",
   "execution_count": 8,
   "metadata": {
    "execution": {
     "iopub.execute_input": "2024-12-02T18:24:45.972651Z",
     "iopub.status.busy": "2024-12-02T18:24:45.972452Z",
     "iopub.status.idle": "2024-12-02T18:24:45.982624Z",
     "shell.execute_reply": "2024-12-02T18:24:45.981983Z",
     "shell.execute_reply.started": "2024-12-02T18:24:45.972629Z"
    },
    "trusted": true
   },
   "outputs": [],
   "source": [
    "BASE_PATH = Path(\"./data/\")"
   ]
  },
  {
   "cell_type": "code",
   "execution_count": 9,
   "metadata": {
    "execution": {
     "iopub.execute_input": "2024-12-02T18:24:45.983747Z",
     "iopub.status.busy": "2024-12-02T18:24:45.983494Z",
     "iopub.status.idle": "2024-12-02T18:24:49.761763Z",
     "shell.execute_reply": "2024-12-02T18:24:49.760808Z",
     "shell.execute_reply.started": "2024-12-02T18:24:45.983723Z"
    },
    "trusted": true
   },
   "outputs": [],
   "source": [
    "# Load data\n",
    "df = pd.read_csv(\n",
    "    BASE_PATH / \"articles.csv\",\n",
    "    nrows=None,\n",
    "    dtype={\n",
    "        \"article_id\": str,\n",
    "    },\n",
    ")\n",
    "\n",
    "df[\"text\"] = df.apply(\n",
    "    lambda x: \" \".join(\n",
    "        [\n",
    "            str(x[\"prod_name\"]),\n",
    "            str(x[\"product_type_name\"]),\n",
    "            str(x[\"product_group_name\"]),\n",
    "            str(x[\"graphical_appearance_name\"]),\n",
    "            str(x[\"colour_group_name\"]),\n",
    "            str(x[\"perceived_colour_value_name\"]),\n",
    "            str(x[\"index_name\"]),\n",
    "            str(x[\"section_name\"]),\n",
    "            str(x[\"detail_desc\"]),\n",
    "        ]\n",
    "    ),\n",
    "    axis=1,\n",
    ")"
   ]
  },
  {
   "cell_type": "markdown",
   "metadata": {},
   "source": [
    "# Train"
   ]
  },
  {
   "cell_type": "code",
   "execution_count": 10,
   "metadata": {},
   "outputs": [],
   "source": [
    "# Split data into train and validation sets\n",
    "train_texts, val_texts = train_test_split(\n",
    "    df[\"text\"].values, test_size=0.2, random_state=42\n",
    ")\n",
    "\n",
    "# Create datasets\n",
    "train_dataset = TextDataset(train_texts, tokenize, pad_list)\n",
    "val_dataset = TextDataset(val_texts, tokenize, pad_list)\n",
    "\n",
    "# Create DataLoaders\n",
    "train_loader = DataLoader(train_dataset, batch_size=64, shuffle=True)\n",
    "val_loader = DataLoader(val_dataset, batch_size=64, shuffle=False)\n",
    "\n",
    "# Initialize model\n",
    "model = Cola(lr=1e-4, n_vocab=vocab_size)\n",
    "device = torch.device(\"cuda\" if torch.cuda.is_available() else \"cpu\")\n",
    "model.to(device)\n",
    "\n",
    "# Define optimizer and loss function\n",
    "optimizer = torch.optim.Adam(model.parameters(), lr=model.lr)\n",
    "criterion = torch.nn.CrossEntropyLoss()"
   ]
  },
  {
   "cell_type": "code",
   "execution_count": 11,
   "metadata": {},
   "outputs": [
    {
     "name": "stderr",
     "output_type": "stream",
     "text": [
      "/var/folders/np/3hbc4c0n7vzfl3m6vs6kdghw0000gn/T/ipykernel_92493/1723162875.py:1: FutureWarning: You are using `torch.load` with `weights_only=False` (the current default value), which uses the default pickle module implicitly. It is possible to construct malicious pickle data which will execute arbitrary code during unpickling (See https://github.com/pytorch/pytorch/blob/main/SECURITY.md#untrusted-models for more details). In a future release, the default value for `weights_only` will be flipped to `True`. This limits the functions that could be executed during unpickling. Arbitrary objects will no longer be allowed to be loaded via this mode unless they are explicitly allowlisted by the user via `torch.serialization.add_safe_globals`. We recommend you start setting `weights_only=True` for any use case where you don't have full control of the loaded file. Please open an issue on GitHub for any issues related to this experimental feature.\n",
      "  model.load_state_dict(state_dict=torch.load(\"model_train_0_370_val_0_27.pth\", map_location=device))\n"
     ]
    },
    {
     "ename": "FileNotFoundError",
     "evalue": "[Errno 2] No such file or directory: 'model_train_0_370_val_0_27.pth'",
     "output_type": "error",
     "traceback": [
      "\u001b[0;31m---------------------------------------------------------------------------\u001b[0m",
      "\u001b[0;31mFileNotFoundError\u001b[0m                         Traceback (most recent call last)",
      "Cell \u001b[0;32mIn[11], line 1\u001b[0m\n\u001b[0;32m----> 1\u001b[0m model\u001b[38;5;241m.\u001b[39mload_state_dict(state_dict\u001b[38;5;241m=\u001b[39m\u001b[43mtorch\u001b[49m\u001b[38;5;241;43m.\u001b[39;49m\u001b[43mload\u001b[49m\u001b[43m(\u001b[49m\u001b[38;5;124;43m\"\u001b[39;49m\u001b[38;5;124;43mmodel_train_0_370_val_0_27.pth\u001b[39;49m\u001b[38;5;124;43m\"\u001b[39;49m\u001b[43m,\u001b[49m\u001b[43m \u001b[49m\u001b[43mmap_location\u001b[49m\u001b[38;5;241;43m=\u001b[39;49m\u001b[43mdevice\u001b[49m\u001b[43m)\u001b[49m)\n",
      "File \u001b[0;32m~/Library/Caches/pypoetry/virtualenvs/recsys-2eoFSNDj-py3.11/lib/python3.11/site-packages/torch/serialization.py:1319\u001b[0m, in \u001b[0;36mload\u001b[0;34m(f, map_location, pickle_module, weights_only, mmap, **pickle_load_args)\u001b[0m\n\u001b[1;32m   1316\u001b[0m \u001b[38;5;28;01mif\u001b[39;00m \u001b[38;5;124m\"\u001b[39m\u001b[38;5;124mencoding\u001b[39m\u001b[38;5;124m\"\u001b[39m \u001b[38;5;129;01mnot\u001b[39;00m \u001b[38;5;129;01min\u001b[39;00m pickle_load_args\u001b[38;5;241m.\u001b[39mkeys():\n\u001b[1;32m   1317\u001b[0m     pickle_load_args[\u001b[38;5;124m\"\u001b[39m\u001b[38;5;124mencoding\u001b[39m\u001b[38;5;124m\"\u001b[39m] \u001b[38;5;241m=\u001b[39m \u001b[38;5;124m\"\u001b[39m\u001b[38;5;124mutf-8\u001b[39m\u001b[38;5;124m\"\u001b[39m\n\u001b[0;32m-> 1319\u001b[0m \u001b[38;5;28;01mwith\u001b[39;00m \u001b[43m_open_file_like\u001b[49m\u001b[43m(\u001b[49m\u001b[43mf\u001b[49m\u001b[43m,\u001b[49m\u001b[43m \u001b[49m\u001b[38;5;124;43m\"\u001b[39;49m\u001b[38;5;124;43mrb\u001b[39;49m\u001b[38;5;124;43m\"\u001b[39;49m\u001b[43m)\u001b[49m \u001b[38;5;28;01mas\u001b[39;00m opened_file:\n\u001b[1;32m   1320\u001b[0m     \u001b[38;5;28;01mif\u001b[39;00m _is_zipfile(opened_file):\n\u001b[1;32m   1321\u001b[0m         \u001b[38;5;66;03m# The zipfile reader is going to advance the current file position.\u001b[39;00m\n\u001b[1;32m   1322\u001b[0m         \u001b[38;5;66;03m# If we want to actually tail call to torch.jit.load, we need to\u001b[39;00m\n\u001b[1;32m   1323\u001b[0m         \u001b[38;5;66;03m# reset back to the original position.\u001b[39;00m\n\u001b[1;32m   1324\u001b[0m         orig_position \u001b[38;5;241m=\u001b[39m opened_file\u001b[38;5;241m.\u001b[39mtell()\n",
      "File \u001b[0;32m~/Library/Caches/pypoetry/virtualenvs/recsys-2eoFSNDj-py3.11/lib/python3.11/site-packages/torch/serialization.py:659\u001b[0m, in \u001b[0;36m_open_file_like\u001b[0;34m(name_or_buffer, mode)\u001b[0m\n\u001b[1;32m    657\u001b[0m \u001b[38;5;28;01mdef\u001b[39;00m \u001b[38;5;21m_open_file_like\u001b[39m(name_or_buffer, mode):\n\u001b[1;32m    658\u001b[0m     \u001b[38;5;28;01mif\u001b[39;00m _is_path(name_or_buffer):\n\u001b[0;32m--> 659\u001b[0m         \u001b[38;5;28;01mreturn\u001b[39;00m \u001b[43m_open_file\u001b[49m\u001b[43m(\u001b[49m\u001b[43mname_or_buffer\u001b[49m\u001b[43m,\u001b[49m\u001b[43m \u001b[49m\u001b[43mmode\u001b[49m\u001b[43m)\u001b[49m\n\u001b[1;32m    660\u001b[0m     \u001b[38;5;28;01melse\u001b[39;00m:\n\u001b[1;32m    661\u001b[0m         \u001b[38;5;28;01mif\u001b[39;00m \u001b[38;5;124m\"\u001b[39m\u001b[38;5;124mw\u001b[39m\u001b[38;5;124m\"\u001b[39m \u001b[38;5;129;01min\u001b[39;00m mode:\n",
      "File \u001b[0;32m~/Library/Caches/pypoetry/virtualenvs/recsys-2eoFSNDj-py3.11/lib/python3.11/site-packages/torch/serialization.py:640\u001b[0m, in \u001b[0;36m_open_file.__init__\u001b[0;34m(self, name, mode)\u001b[0m\n\u001b[1;32m    639\u001b[0m \u001b[38;5;28;01mdef\u001b[39;00m \u001b[38;5;21m__init__\u001b[39m(\u001b[38;5;28mself\u001b[39m, name, mode):\n\u001b[0;32m--> 640\u001b[0m     \u001b[38;5;28msuper\u001b[39m()\u001b[38;5;241m.\u001b[39m\u001b[38;5;21m__init__\u001b[39m(\u001b[38;5;28;43mopen\u001b[39;49m\u001b[43m(\u001b[49m\u001b[43mname\u001b[49m\u001b[43m,\u001b[49m\u001b[43m \u001b[49m\u001b[43mmode\u001b[49m\u001b[43m)\u001b[49m)\n",
      "\u001b[0;31mFileNotFoundError\u001b[0m: [Errno 2] No such file or directory: 'model_train_0_370_val_0_27.pth'"
     ]
    }
   ],
   "source": [
    "model.load_state_dict(state_dict=torch.load(\"model_train_0_370_val_0_27.pth\", map_location=device))"
   ]
  },
  {
   "cell_type": "code",
   "execution_count": 12,
   "metadata": {
    "execution": {
     "iopub.execute_input": "2024-12-02T18:24:49.763308Z",
     "iopub.status.busy": "2024-12-02T18:24:49.762951Z",
     "iopub.status.idle": "2024-12-02T18:24:49.770966Z",
     "shell.execute_reply": "2024-12-02T18:24:49.770101Z",
     "shell.execute_reply.started": "2024-12-02T18:24:49.763268Z"
    },
    "trusted": true
   },
   "outputs": [],
   "source": [
    "def train_model(model, train_loader, val_loader, criterion, optimizer, num_epochs=10):\n",
    "    for epoch in range(num_epochs):\n",
    "        model.train()\n",
    "        train_loss = 0.0\n",
    "        for texts in tqdm(train_loader):\n",
    "            texts = texts.to(device)\n",
    "            optimizer.zero_grad()\n",
    "            outputs = model(texts)\n",
    "\n",
    "            targets = texts[:, 1:].contiguous().view(-1)\n",
    "            outputs = outputs[:, :-1].contiguous().view(-1, outputs.size(-1))\n",
    "            loss = criterion(outputs, targets)\n",
    "            loss.backward()\n",
    "            optimizer.step()\n",
    "            train_loss += loss.item() * texts.size(0)\n",
    "\n",
    "        train_loss = train_loss / len(train_loader.dataset)\n",
    "\n",
    "        model.eval()\n",
    "        val_loss = 0.0\n",
    "        with torch.no_grad():\n",
    "            for texts in val_loader:\n",
    "                texts = texts.to(device)\n",
    "                outputs = model(texts)\n",
    "                # In your training loop\n",
    "                targets = texts[:, 1:].contiguous().view(-1)\n",
    "                outputs = outputs[:, :-1, :].contiguous().view(-1, outputs.size(-1))\n",
    "                loss = criterion(outputs, targets)\n",
    "                val_loss += loss.item() * texts.size(0)\n",
    "\n",
    "        val_loss = val_loss / len(val_loader.dataset)\n",
    "\n",
    "        print(\n",
    "            f\"Epoch {epoch+1}/{num_epochs}, Train Loss: {train_loss:.4f}, Val Loss: {val_loss:.4f}\"\n",
    "        )"
   ]
  },
  {
   "cell_type": "code",
   "execution_count": 19,
   "metadata": {},
   "outputs": [
    {
     "name": "stderr",
     "output_type": "stream",
     "text": [
      "100%|██████████| 1320/1320 [02:49<00:00,  7.79it/s]\n"
     ]
    },
    {
     "name": "stdout",
     "output_type": "stream",
     "text": [
      "Epoch 1/5, Train Loss: 0.2809, Val Loss: 0.2021\n"
     ]
    },
    {
     "name": "stderr",
     "output_type": "stream",
     "text": [
      "100%|██████████| 1320/1320 [02:49<00:00,  7.78it/s]\n"
     ]
    },
    {
     "name": "stdout",
     "output_type": "stream",
     "text": [
      "Epoch 2/5, Train Loss: 0.2780, Val Loss: 0.1998\n"
     ]
    },
    {
     "name": "stderr",
     "output_type": "stream",
     "text": [
      "100%|██████████| 1320/1320 [02:49<00:00,  7.78it/s]\n"
     ]
    },
    {
     "name": "stdout",
     "output_type": "stream",
     "text": [
      "Epoch 3/5, Train Loss: 0.2755, Val Loss: 0.1986\n"
     ]
    },
    {
     "name": "stderr",
     "output_type": "stream",
     "text": [
      "100%|██████████| 1320/1320 [02:49<00:00,  7.79it/s]\n"
     ]
    },
    {
     "name": "stdout",
     "output_type": "stream",
     "text": [
      "Epoch 4/5, Train Loss: 0.2733, Val Loss: 0.1949\n"
     ]
    },
    {
     "name": "stderr",
     "output_type": "stream",
     "text": [
      "100%|██████████| 1320/1320 [02:49<00:00,  7.79it/s]\n"
     ]
    },
    {
     "name": "stdout",
     "output_type": "stream",
     "text": [
      "Epoch 5/5, Train Loss: 0.2705, Val Loss: 0.1933\n"
     ]
    }
   ],
   "source": [
    "# Train the model\n",
    "train_model(model, train_loader, val_loader, criterion, optimizer, num_epochs=5)"
   ]
  },
  {
   "cell_type": "code",
   "execution_count": 20,
   "metadata": {},
   "outputs": [],
   "source": [
    "try:\n",
    "    torch.save(model.state_dict(), \"model_0_2705_0_1933.pth\")\n",
    "except Exception as e:\n",
    "    print(e)"
   ]
  },
  {
   "cell_type": "markdown",
   "metadata": {},
   "source": [
    "# Embeddings results"
   ]
  },
  {
   "cell_type": "code",
   "execution_count": 12,
   "metadata": {},
   "outputs": [],
   "source": [
    "MODEL_PATH = Path(\"model_0_2705_0_1933.pth\")"
   ]
  },
  {
   "cell_type": "code",
   "execution_count": 13,
   "metadata": {},
   "outputs": [],
   "source": [
    "from sklearn.manifold import TSNE"
   ]
  },
  {
   "cell_type": "code",
   "execution_count": 14,
   "metadata": {},
   "outputs": [],
   "source": [
    "df = pd.read_csv(\n",
    "    BASE_PATH / \"articles.csv\",\n",
    "    nrows=None,\n",
    "    dtype={\n",
    "        \"article_id\": str,\n",
    "    },\n",
    ")\n",
    "\n",
    "df[\"text\"] = df.apply(\n",
    "    lambda x: \" \".join(\n",
    "        [\n",
    "            str(x[\"prod_name\"]),\n",
    "            str(x[\"product_type_name\"]),\n",
    "            str(x[\"product_group_name\"]),\n",
    "            str(x[\"graphical_appearance_name\"]),\n",
    "            str(x[\"colour_group_name\"]),\n",
    "            str(x[\"perceived_colour_value_name\"]),\n",
    "            str(x[\"index_name\"]),\n",
    "            str(x[\"section_name\"]),\n",
    "            str(x[\"detail_desc\"])\n",
    "        ]\n",
    "    ),\n",
    "    axis=1,\n",
    ")\n",
    "\n",
    "df = df.sample(n=100, random_state=RANDOM_STATE)"
   ]
  },
  {
   "cell_type": "code",
   "execution_count": 15,
   "metadata": {},
   "outputs": [
    {
     "name": "stderr",
     "output_type": "stream",
     "text": [
      "/var/folders/np/3hbc4c0n7vzfl3m6vs6kdghw0000gn/T/ipykernel_92493/2776126598.py:5: FutureWarning: You are using `torch.load` with `weights_only=False` (the current default value), which uses the default pickle module implicitly. It is possible to construct malicious pickle data which will execute arbitrary code during unpickling (See https://github.com/pytorch/pytorch/blob/main/SECURITY.md#untrusted-models for more details). In a future release, the default value for `weights_only` will be flipped to `True`. This limits the functions that could be executed during unpickling. Arbitrary objects will no longer be allowed to be loaded via this mode unless they are explicitly allowlisted by the user via `torch.serialization.add_safe_globals`. We recommend you start setting `weights_only=True` for any use case where you don't have full control of the loaded file. Please open an issue on GitHub for any issues related to this experimental feature.\n",
      "  model.load_state_dict(state_dict=torch.load(\"model_0_2705_0_1933.pth\", map_location=device))\n"
     ]
    },
    {
     "data": {
      "text/plain": [
       "Cola(\n",
       "  (item_embeddings): Embedding(30522, 128)\n",
       "  (pos_encoder): PositionalEncoding(\n",
       "    (dropout): Dropout(p=0.2, inplace=False)\n",
       "  )\n",
       "  (encoder): TransformerEncoder(\n",
       "    (layers): ModuleList(\n",
       "      (0-3): 4 x TransformerEncoderLayer(\n",
       "        (self_attn): MultiheadAttention(\n",
       "          (out_proj): NonDynamicallyQuantizableLinear(in_features=128, out_features=128, bias=True)\n",
       "        )\n",
       "        (linear1): Linear(in_features=128, out_features=2048, bias=True)\n",
       "        (dropout): Dropout(p=0.2, inplace=False)\n",
       "        (linear2): Linear(in_features=2048, out_features=128, bias=True)\n",
       "        (norm1): LayerNorm((128,), eps=1e-05, elementwise_affine=True)\n",
       "        (norm2): LayerNorm((128,), eps=1e-05, elementwise_affine=True)\n",
       "        (dropout1): Dropout(p=0.2, inplace=False)\n",
       "        (dropout2): Dropout(p=0.2, inplace=False)\n",
       "      )\n",
       "    )\n",
       "  )\n",
       "  (output_layer): Linear(in_features=128, out_features=30522, bias=True)\n",
       ")"
      ]
     },
     "execution_count": 15,
     "metadata": {},
     "output_type": "execute_result"
    }
   ],
   "source": [
    "model = Cola(lr=1e-4)\n",
    "\n",
    "device = torch.device(\"cuda\" if torch.cuda.is_available() else \"cpu\")\n",
    "\n",
    "model.load_state_dict(state_dict=torch.load(\"model_0_2705_0_1933.pth\", map_location=device))\n",
    "\n",
    "model.to(device)\n",
    "\n",
    "model.eval()"
   ]
  },
  {
   "cell_type": "code",
   "execution_count": 16,
   "metadata": {},
   "outputs": [
    {
     "name": "stderr",
     "output_type": "stream",
     "text": [
      "100%|██████████| 100/100 [00:05<00:00, 18.12it/s]\n"
     ]
    }
   ],
   "source": [
    "text_embeddings = []\n",
    "\n",
    "for text in tqdm(\n",
    "     df.text.values,\n",
    "    total=len(df),\n",
    "):\n",
    "\n",
    "\n",
    "    text_t = tokenize(text)\n",
    "    text_t = torch.tensor(pad_list(text_t), dtype=torch.long, device=device).unsqueeze(0)\n",
    "\n",
    "    with torch.no_grad():\n",
    "        text_embed = model.encode_text(text_t)\n",
    "\n",
    "        text_embed = text_embed.squeeze().cpu().tolist()\n",
    "\n",
    "    text_embeddings.append(text_embed)\n",
    "\n",
    "text_embeddings = np.array(text_embeddings)"
   ]
  },
  {
   "cell_type": "code",
   "execution_count": 17,
   "metadata": {},
   "outputs": [
    {
     "data": {
      "text/plain": [
       "(100, 90, 30522)"
      ]
     },
     "execution_count": 17,
     "metadata": {},
     "output_type": "execute_result"
    }
   ],
   "source": [
    "len(text_embeddings), len(text_embeddings[2]), len(text_embeddings[0][0])"
   ]
  },
  {
   "cell_type": "code",
   "execution_count": 18,
   "metadata": {},
   "outputs": [
    {
     "name": "stderr",
     "output_type": "stream",
     "text": [
      "/Users/egortarasov/Library/Caches/pypoetry/virtualenvs/recsys-2eoFSNDj-py3.11/lib/python3.11/site-packages/sklearn/manifold/_t_sne.py:1162: FutureWarning: 'n_iter' was renamed to 'max_iter' in version 1.5 and will be removed in 1.7.\n",
      "  warnings.warn(\n"
     ]
    },
    {
     "data": {
      "application/vnd.plotly.v1+json": {
       "config": {
        "plotlyServerURL": "https://plot.ly"
       },
       "data": [
        {
         "customdata": [
          [
           "BENNY swimpants",
           "Shorts"
          ],
          [
           "Oprah set",
           "Garment Set"
          ],
          [
           "TVP TORSTEN TROUSER",
           "Trousers"
          ],
          [
           "Dress up Furry",
           "Bodysuit"
          ],
          [
           "Denver hood",
           "Hoodie"
          ],
          [
           "Ossian trousers 2-p",
           "Trousers"
          ],
          [
           "SW Tennis shorts",
           "Swimwear bottom"
          ],
          [
           "Seal basic",
           "Other shoe"
          ]
         ],
         "hovertemplate": "Index Category=Baby Sizes 50-98<br>x=%{x}<br>y=%{y}<br>z=%{z}<br>hover_data_0=%{customdata[0]}<br>hover_data_1=%{customdata[1]}<extra></extra>",
         "legendgroup": "Baby Sizes 50-98",
         "marker": {
          "color": "#636efa",
          "opacity": 0.7,
          "symbol": "circle"
         },
         "mode": "markers",
         "name": "Baby Sizes 50-98",
         "scene": "scene",
         "showlegend": true,
         "type": "scatter3d",
         "x": [
          40.46117401123047,
          3.9855990409851074,
          14.69587230682373,
          -4.133143424987793,
          11.924386024475098,
          12.909420013427734,
          -20.424375534057617,
          -2.3499515056610107
         ],
         "y": [
          5.294557571411133,
          -1.7888069152832031,
          4.854815483093262,
          -1.102521538734436,
          -22.337757110595703,
          -2.952650308609009,
          10.97793197631836,
          -17.50054168701172
         ],
         "z": [
          -8.7487211227417,
          9.35058307647705,
          -7.353820323944092,
          12.759973526000977,
          -0.46361562609672546,
          -10.611406326293945,
          4.019163131713867,
          -17.05504608154297
         ]
        },
        {
         "customdata": [
          [
           "9p rub pins",
           "Hair clip"
          ],
          [
           "OL DONALD pump",
           "Pumps"
          ],
          [
           "Speed Struk Stud",
           "Earring"
          ],
          [
           "Maud Blanket",
           "Scarf"
          ],
          [
           "OL CLEMENT PQ sandal",
           "Sandals"
          ],
          [
           "2p Claw",
           "Hair clip"
          ]
         ],
         "hovertemplate": "Index Category=Ladies Accessories<br>x=%{x}<br>y=%{y}<br>z=%{z}<br>hover_data_0=%{customdata[0]}<br>hover_data_1=%{customdata[1]}<extra></extra>",
         "legendgroup": "Ladies Accessories",
         "marker": {
          "color": "#EF553B",
          "opacity": 0.7,
          "symbol": "circle"
         },
         "mode": "markers",
         "name": "Ladies Accessories",
         "scene": "scene",
         "showlegend": true,
         "type": "scatter3d",
         "x": [
          -13.188212394714355,
          -18.282224655151367,
          -5.540902137756348,
          -3.854351043701172,
          -15.237800598144531,
          -19.150514602661133
         ],
         "y": [
          -22.896499633789062,
          -17.09859848022461,
          -22.388132095336914,
          7.579099178314209,
          -7.4047417640686035,
          -15.459043502807617
         ],
         "z": [
          -3.263152599334717,
          8.378914833068848,
          48.79719161987305,
          -17.771869659423828,
          19.542774200439453,
          -1.6183147430419922
         ]
        },
        {
         "customdata": [
          [
           "Pearl / Gold earring",
           "Earring"
          ],
          [
           "W Perth play suit EQ",
           "Jumpsuit/Playsuit"
          ],
          [
           "Isabella shirt",
           "Shirt"
          ],
          [
           "Martina dress",
           "Dress"
          ],
          [
           "Davidson dress",
           "Dress"
          ],
          [
           "sascha skirt",
           "Skirt"
          ],
          [
           "VIOLET PILE HOOD TVP",
           "Hoodie"
          ],
          [
           "Escalotor shirt",
           "Shirt"
          ],
          [
           "Devon basic sweater",
           "Sweater"
          ],
          [
           "Calista (1)",
           "Cardigan"
          ],
          [
           "Kano Blouse",
           "Blouse"
          ],
          [
           "SC LODOVICO Coat",
           "Coat"
          ],
          [
           "Sunshine dress",
           "Dress"
          ],
          [
           "HIPPIE HENLEY LS",
           "T-shirt"
          ],
          [
           "H2 Canna top PI",
           "Blouse"
          ],
          [
           "SC FLOAT trouser",
           "Trousers"
          ],
          [
           "Merlin jumper",
           "Sweater"
          ],
          [
           "CE Lunar top",
           "Top"
          ],
          [
           "PQ BELLE SILK SKIRT",
           "Skirt"
          ]
         ],
         "hovertemplate": "Index Category=Ladieswear<br>x=%{x}<br>y=%{y}<br>z=%{z}<br>hover_data_0=%{customdata[0]}<br>hover_data_1=%{customdata[1]}<extra></extra>",
         "legendgroup": "Ladieswear",
         "marker": {
          "color": "#00cc96",
          "opacity": 0.7,
          "symbol": "circle"
         },
         "mode": "markers",
         "name": "Ladieswear",
         "scene": "scene",
         "showlegend": true,
         "type": "scatter3d",
         "x": [
          21.845417022705078,
          -10.747633934020996,
          11.971718788146973,
          2.481743335723877,
          5.672774314880371,
          -19.679828643798828,
          -0.8760107755661011,
          5.5839362144470215,
          -60.55937576293945,
          -2.4828619956970215,
          3.1534886360168457,
          -19.113590240478516,
          -5.514792442321777,
          15.181439399719238,
          2.2904281616210938,
          -13.422684669494629,
          4.969414234161377,
          -12.832525253295898,
          50.34415817260742
         ],
         "y": [
          4.10861349105835,
          19.60980796813965,
          -4.921911239624023,
          20.15611457824707,
          -3.8288705348968506,
          -4.312057018280029,
          -4.275444984436035,
          12.320719718933105,
          -54.59927749633789,
          -8.948986053466797,
          -22.74476432800293,
          12.439125061035156,
          -35.54056167602539,
          -16.585268020629883,
          -7.931319236755371,
          -0.4467245638370514,
          5.551766395568848,
          22.98423194885254,
          73.57977294921875
         ],
         "z": [
          -17.2628173828125,
          12.316771507263184,
          15.573962211608887,
          11.280830383300781,
          -1.8788591623306274,
          -6.902709007263184,
          -21.2600154876709,
          -8.759099960327148,
          73.62023162841797,
          23.110050201416016,
          11.584552764892578,
          -7.209595680236816,
          118.35525512695312,
          -9.854990005493164,
          -10.444780349731445,
          0.1824597716331482,
          0.318803995847702,
          -0.9245901107788086,
          35.22753143310547
         ]
        },
        {
         "customdata": [
          [
           "Forrest Parka",
           "Jacket"
          ],
          [
           "DENIM Jayden western ls",
           "Shirt"
          ],
          [
           "Robin 3pk Colourful W/B",
           "Underwear bottom"
          ],
          [
           "BYRON STRUCTURE SWEATER",
           "Sweater"
          ],
          [
           "Furio funnel neck",
           "Hoodie"
          ],
          [
           "Aston color block hood",
           "Hoodie"
          ],
          [
           "SEBASTIAN REGULAR ROLLNECK",
           "Sweater"
          ],
          [
           "Merlin 12gg",
           "Sweater"
          ],
          [
           "Sonny Pants.",
           "Trousers"
          ],
          [
           "RONNY FANCY",
           "T-shirt"
          ],
          [
           "CRISPY STRIPE",
           "Sweater"
          ],
          [
           "Viscious knit",
           "Sweater"
          ],
          [
           "Leo jumper",
           "Sweater"
          ],
          [
           "Mandarine Coma",
           "Shirt"
          ],
          [
           "Wool Scarf Akira",
           "Scarf"
          ],
          [
           "Chris Cargo (1)",
           "Trousers"
          ]
         ],
         "hovertemplate": "Index Category=Menswear<br>x=%{x}<br>y=%{y}<br>z=%{z}<br>hover_data_0=%{customdata[0]}<br>hover_data_1=%{customdata[1]}<extra></extra>",
         "legendgroup": "Menswear",
         "marker": {
          "color": "#ab63fa",
          "opacity": 0.7,
          "symbol": "circle"
         },
         "mode": "markers",
         "name": "Menswear",
         "scene": "scene",
         "showlegend": true,
         "type": "scatter3d",
         "x": [
          23.05949592590332,
          -7.256731986999512,
          6.55757999420166,
          -18.924278259277344,
          -13.720691680908203,
          -19.31256675720215,
          20.942583084106445,
          3.494175910949707,
          -25.821308135986328,
          -3.4085960388183594,
          -22.65678596496582,
          1.634785771369934,
          -7.961701393127441,
          2.79465651512146,
          -9.367157936096191,
          -9.195850372314453
         ],
         "y": [
          -8.209802627563477,
          -13.045283317565918,
          7.936798572540283,
          -10.59515380859375,
          2.637174606323242,
          -5.010613918304443,
          19.203983306884766,
          -17.864389419555664,
          0.006538736168295145,
          9.116191864013672,
          7.766459941864014,
          -12.58614444732666,
          -3.289391279220581,
          2.786677837371826,
          -16.205411911010742,
          -7.923539638519287
         ],
         "z": [
          -11.946654319763184,
          -5.882087707519531,
          12.499258995056152,
          47.398860931396484,
          10.399381637573242,
          9.625922203063965,
          -54.87065124511719,
          -6.3271164894104,
          2.42035174369812,
          10.012611389160156,
          -25.200075149536133,
          1.1871286630630493,
          -10.416836738586426,
          -11.424029350280762,
          15.751285552978516,
          4.052840709686279
         ]
        },
        {
         "customdata": [
          [
           "Astor shorts",
           "Shorts"
          ],
          [
           "Zoo dress w",
           "Dress"
          ],
          [
           "DIANA BRALETTE",
           "Blouse"
          ],
          [
           "Dorset SPEED dress",
           "Dress"
          ],
          [
           "Skinny R.W 29.99 Trash",
           "Trousers"
          ],
          [
           "MARY BUTTON OL",
           "Top"
          ],
          [
           "BENDELA LS",
           "T-shirt"
          ],
          [
           "Roslin Wool Coat",
           "Coat"
          ],
          [
           "EQ SANNA SKATE DRESS",
           "Dress"
          ],
          [
           "Olivia off-shoulder tee",
           "T-shirt"
          ],
          [
           "Aurora Off Shoulder Top",
           "Blouse"
          ],
          [
           "Zabrina midi dress",
           "Dress"
          ],
          [
           "Tuxedo LS",
           "Sweater"
          ],
          [
           "RR 32 6 DRESS button through",
           "Dress"
          ],
          [
           "Daisy earrings",
           "Earring"
          ],
          [
           "LACY PLASTIC VISOR",
           "Cap/peaked"
          ],
          [
           "CHARLIE A-LINE",
           "Skirt"
          ],
          [
           "JOSEFINE SHIRT",
           "Shirt"
          ],
          [
           "ANGELICA",
           "Shirt"
          ],
          [
           "LOVE Corey tee",
           "T-shirt"
          ]
         ],
         "hovertemplate": "Index Category=Divided<br>x=%{x}<br>y=%{y}<br>z=%{z}<br>hover_data_0=%{customdata[0]}<br>hover_data_1=%{customdata[1]}<extra></extra>",
         "legendgroup": "Divided",
         "marker": {
          "color": "#FFA15A",
          "opacity": 0.7,
          "symbol": "circle"
         },
         "mode": "markers",
         "name": "Divided",
         "scene": "scene",
         "showlegend": true,
         "type": "scatter3d",
         "x": [
          -9.831395149230957,
          1.3011372089385986,
          -2.594249725341797,
          -32.42350769042969,
          -2.3588693141937256,
          15.564485549926758,
          -29.13206672668457,
          24.998666763305664,
          24.433868408203125,
          19.966846466064453,
          11.486684799194336,
          -40.74141311645508,
          -9.743904113769531,
          10.071659088134766,
          -8.694496154785156,
          -74.60103607177734,
          47.95302200317383,
          10.213221549987793,
          -17.25849723815918,
          -11.862872123718262
         ],
         "y": [
          -10.131485939025879,
          15.144224166870117,
          24.043617248535156,
          -40.12776184082031,
          12.930124282836914,
          -9.774104118347168,
          12.190888404846191,
          -1.502436637878418,
          10.928522109985352,
          -9.65841007232666,
          -13.363547325134277,
          -10.5447416305542,
          17.118223190307617,
          13.751313209533691,
          -20.593116760253906,
          -54.99453353881836,
          -22.333660125732422,
          1.5956753492355347,
          -0.8913166522979736,
          7.0254645347595215
         ],
         "z": [
          -23.842721939086914,
          1.353736162185669,
          2.3141114711761475,
          26.540592193603516,
          21.523483276367188,
          -2.9530606269836426,
          -56.07169723510742,
          -1.6396745443344116,
          -4.250402450561523,
          6.751345634460449,
          7.499372482299805,
          45.91935348510742,
          -18.919235229492188,
          20.799419403076172,
          5.983621597290039,
          77.46174621582031,
          26.71769905090332,
          -20.901596069335938,
          -23.097442626953125,
          117.45018005371094
         ]
        },
        {
         "customdata": [
          [
           "SUPREME fancy tights",
           "Trousers"
          ],
          [
           "Climate trekking pant",
           "Trousers"
          ],
          [
           "IZZY loose tee (1)",
           "T-shirt"
          ],
          [
           "Serpentine",
           "Sweater"
          ]
         ],
         "hovertemplate": "Index Category=Sport<br>x=%{x}<br>y=%{y}<br>z=%{z}<br>hover_data_0=%{customdata[0]}<br>hover_data_1=%{customdata[1]}<extra></extra>",
         "legendgroup": "Sport",
         "marker": {
          "color": "#19d3f3",
          "opacity": 0.7,
          "symbol": "circle"
         },
         "mode": "markers",
         "name": "Sport",
         "scene": "scene",
         "showlegend": true,
         "type": "scatter3d",
         "x": [
          3.555933952331543,
          -3.48402738571167,
          -9.493680953979492,
          -9.719701766967773
         ],
         "y": [
          0.7383751273155212,
          -6.390295028686523,
          4.169051647186279,
          11.988286972045898
         ],
         "z": [
          22.593135833740234,
          85.93269348144531,
          21.586362838745117,
          2.1397218704223633
         ]
        },
        {
         "customdata": [
          [
           "Miranda nursing SPORT bra",
           "Bra"
          ],
          [
           "Cardamom Push Valencia",
           "Bra"
          ],
          [
           "Birdie Jumpsuit (J)",
           "Pyjama jumpsuit/playsuit"
          ],
          [
           "Cornelia Bandeau LP",
           "Bra"
          ]
         ],
         "hovertemplate": "Index Category=Lingeries/Tights<br>x=%{x}<br>y=%{y}<br>z=%{z}<br>hover_data_0=%{customdata[0]}<br>hover_data_1=%{customdata[1]}<extra></extra>",
         "legendgroup": "Lingeries/Tights",
         "marker": {
          "color": "#FF6692",
          "opacity": 0.7,
          "symbol": "circle"
         },
         "mode": "markers",
         "name": "Lingeries/Tights",
         "scene": "scene",
         "showlegend": true,
         "type": "scatter3d",
         "x": [
          19.091354370117188,
          0.08864975720643997,
          22.81886863708496,
          -16.116775512695312
         ],
         "y": [
          1.6690497398376465,
          5.590522289276123,
          -20.25042152404785,
          -11.989909172058105
         ],
         "z": [
          20.969680786132812,
          -28.029146194458008,
          3.642259120941162,
          -14.477680206298828
         ]
        },
        {
         "customdata": [
          [
           "ES HENRY SHORTS",
           "Shorts"
          ],
          [
           "SKINNY BASIC 89",
           "Trousers"
          ],
          [
           "Milan top",
           "T-shirt"
          ],
          [
           "Carolyn swettisdress",
           "Dress"
          ],
          [
           "Masolo PJ",
           "Pyjama set"
          ],
          [
           "PRIA",
           "T-shirt"
          ],
          [
           "BRAX shorts",
           "Shorts"
          ],
          [
           "FRIDA furry jkt",
           "Jacket"
          ],
          [
           "JOLLY sweter",
           "Sweater"
          ],
          [
           "Felix super stretch trs",
           "Trousers"
          ]
         ],
         "hovertemplate": "Index Category=Children Sizes 134-170<br>x=%{x}<br>y=%{y}<br>z=%{z}<br>hover_data_0=%{customdata[0]}<br>hover_data_1=%{customdata[1]}<extra></extra>",
         "legendgroup": "Children Sizes 134-170",
         "marker": {
          "color": "#B6E880",
          "opacity": 0.7,
          "symbol": "circle"
         },
         "mode": "markers",
         "name": "Children Sizes 134-170",
         "scene": "scene",
         "showlegend": true,
         "type": "scatter3d",
         "x": [
          4.136123180389404,
          -20.742021560668945,
          10.457475662231445,
          -13.46047592163086,
          -0.5869708061218262,
          -12.58837604522705,
          13.247243881225586,
          18.332735061645508,
          0.5308318138122559,
          14.722546577453613
         ],
         "y": [
          21.20792007446289,
          9.363719940185547,
          -15.557835578918457,
          4.957770824432373,
          22.10406494140625,
          -6.746509075164795,
          10.704753875732422,
          8.40068531036377,
          -24.14006233215332,
          0.02296409197151661
         ],
         "z": [
          -33.08063888549805,
          15.984773635864258,
          19.4345760345459,
          -14.663860321044922,
          -9.833739280700684,
          34.31084060668945,
          3.097689151763916,
          10.858263969421387,
          -1.634055495262146,
          4.560599327087402
         ]
        },
        {
         "customdata": [
          [
           "SB Austin Reverse Insulation",
           "Jacket"
          ],
          [
           "ES LEXIE SHIRT",
           "Blouse"
          ],
          [
           "Hilding romper",
           "Jumpsuit/Playsuit"
          ],
          [
           "NEWRY 2-p",
           "Shorts"
          ],
          [
           "ELLINOR NG",
           "Night gown"
          ],
          [
           "Oslo shorts",
           "Shorts"
          ],
          [
           "Frida L/S",
           "Top"
          ],
          [
           "Lush Vest",
           "Outdoor Waistcoat"
          ],
          [
           "Relax tap",
           "Trousers"
          ]
         ],
         "hovertemplate": "Index Category=Children Sizes 92-140<br>x=%{x}<br>y=%{y}<br>z=%{z}<br>hover_data_0=%{customdata[0]}<br>hover_data_1=%{customdata[1]}<extra></extra>",
         "legendgroup": "Children Sizes 92-140",
         "marker": {
          "color": "#FF97FF",
          "opacity": 0.7,
          "symbol": "circle"
         },
         "mode": "markers",
         "name": "Children Sizes 92-140",
         "scene": "scene",
         "showlegend": true,
         "type": "scatter3d",
         "x": [
          15.301545143127441,
          11.795888900756836,
          11.451865196228027,
          0.15055061876773834,
          6.3616623878479,
          -4.699333667755127,
          10.877610206604004,
          70.64664459228516,
          -3.1761083602905273
         ],
         "y": [
          14.643796920776367,
          16.334705352783203,
          23.46885871887207,
          -10.915360450744629,
          13.692355155944824,
          5.13657808303833,
          25.632715225219727,
          76.88593292236328,
          0.24203841388225555
         ],
         "z": [
          -16.647350311279297,
          -5.466019153594971,
          3.0796091556549072,
          11.749197006225586,
          -22.637941360473633,
          -4.59283971786499,
          -11.565079689025879,
          83.5687026977539,
          1.6499600410461426
         ]
        },
        {
         "customdata": [
          [
           "Jason Piled BG",
           "Sneakers"
          ],
          [
           "Johan waterproof SB",
           "Sneakers"
          ],
          [
           "Sarah Low BG",
           "Sneakers"
          ],
          [
           "SBC OWN",
           "Cap/peaked"
          ]
         ],
         "hovertemplate": "Index Category=Children Accessories, Swimwear<br>x=%{x}<br>y=%{y}<br>z=%{z}<br>hover_data_0=%{customdata[0]}<br>hover_data_1=%{customdata[1]}<extra></extra>",
         "legendgroup": "Children Accessories, Swimwear",
         "marker": {
          "color": "#FECB52",
          "opacity": 0.7,
          "symbol": "circle"
         },
         "mode": "markers",
         "name": "Children Accessories, Swimwear",
         "scene": "scene",
         "showlegend": true,
         "type": "scatter3d",
         "x": [
          -4.855861186981201,
          -25.467723846435547,
          8.10317325592041,
          -7.482542514801025
         ],
         "y": [
          -4.137356758117676,
          4.861855983734131,
          -12.366068840026855,
          13.929792404174805
         ],
         "z": [
          96.34302520751953,
          -9.854348182678223,
          -20.56836700439453,
          -9.15272331237793
         ]
        }
       ],
       "layout": {
        "height": 800,
        "legend": {
         "title": {
          "text": "Index Category"
         },
         "tracegroupgap": 0
        },
        "scene": {
         "domain": {
          "x": [
           0,
           1
          ],
          "y": [
           0,
           1
          ]
         },
         "xaxis": {
          "title": {
           "text": "t-SNE 1"
          }
         },
         "yaxis": {
          "title": {
           "text": "t-SNE 2"
          }
         },
         "zaxis": {
          "title": {
           "text": "t-SNE 3"
          }
         }
        },
        "template": {
         "data": {
          "bar": [
           {
            "error_x": {
             "color": "#2a3f5f"
            },
            "error_y": {
             "color": "#2a3f5f"
            },
            "marker": {
             "line": {
              "color": "#E5ECF6",
              "width": 0.5
             },
             "pattern": {
              "fillmode": "overlay",
              "size": 10,
              "solidity": 0.2
             }
            },
            "type": "bar"
           }
          ],
          "barpolar": [
           {
            "marker": {
             "line": {
              "color": "#E5ECF6",
              "width": 0.5
             },
             "pattern": {
              "fillmode": "overlay",
              "size": 10,
              "solidity": 0.2
             }
            },
            "type": "barpolar"
           }
          ],
          "carpet": [
           {
            "aaxis": {
             "endlinecolor": "#2a3f5f",
             "gridcolor": "white",
             "linecolor": "white",
             "minorgridcolor": "white",
             "startlinecolor": "#2a3f5f"
            },
            "baxis": {
             "endlinecolor": "#2a3f5f",
             "gridcolor": "white",
             "linecolor": "white",
             "minorgridcolor": "white",
             "startlinecolor": "#2a3f5f"
            },
            "type": "carpet"
           }
          ],
          "choropleth": [
           {
            "colorbar": {
             "outlinewidth": 0,
             "ticks": ""
            },
            "type": "choropleth"
           }
          ],
          "contour": [
           {
            "colorbar": {
             "outlinewidth": 0,
             "ticks": ""
            },
            "colorscale": [
             [
              0,
              "#0d0887"
             ],
             [
              0.1111111111111111,
              "#46039f"
             ],
             [
              0.2222222222222222,
              "#7201a8"
             ],
             [
              0.3333333333333333,
              "#9c179e"
             ],
             [
              0.4444444444444444,
              "#bd3786"
             ],
             [
              0.5555555555555556,
              "#d8576b"
             ],
             [
              0.6666666666666666,
              "#ed7953"
             ],
             [
              0.7777777777777778,
              "#fb9f3a"
             ],
             [
              0.8888888888888888,
              "#fdca26"
             ],
             [
              1,
              "#f0f921"
             ]
            ],
            "type": "contour"
           }
          ],
          "contourcarpet": [
           {
            "colorbar": {
             "outlinewidth": 0,
             "ticks": ""
            },
            "type": "contourcarpet"
           }
          ],
          "heatmap": [
           {
            "colorbar": {
             "outlinewidth": 0,
             "ticks": ""
            },
            "colorscale": [
             [
              0,
              "#0d0887"
             ],
             [
              0.1111111111111111,
              "#46039f"
             ],
             [
              0.2222222222222222,
              "#7201a8"
             ],
             [
              0.3333333333333333,
              "#9c179e"
             ],
             [
              0.4444444444444444,
              "#bd3786"
             ],
             [
              0.5555555555555556,
              "#d8576b"
             ],
             [
              0.6666666666666666,
              "#ed7953"
             ],
             [
              0.7777777777777778,
              "#fb9f3a"
             ],
             [
              0.8888888888888888,
              "#fdca26"
             ],
             [
              1,
              "#f0f921"
             ]
            ],
            "type": "heatmap"
           }
          ],
          "heatmapgl": [
           {
            "colorbar": {
             "outlinewidth": 0,
             "ticks": ""
            },
            "colorscale": [
             [
              0,
              "#0d0887"
             ],
             [
              0.1111111111111111,
              "#46039f"
             ],
             [
              0.2222222222222222,
              "#7201a8"
             ],
             [
              0.3333333333333333,
              "#9c179e"
             ],
             [
              0.4444444444444444,
              "#bd3786"
             ],
             [
              0.5555555555555556,
              "#d8576b"
             ],
             [
              0.6666666666666666,
              "#ed7953"
             ],
             [
              0.7777777777777778,
              "#fb9f3a"
             ],
             [
              0.8888888888888888,
              "#fdca26"
             ],
             [
              1,
              "#f0f921"
             ]
            ],
            "type": "heatmapgl"
           }
          ],
          "histogram": [
           {
            "marker": {
             "pattern": {
              "fillmode": "overlay",
              "size": 10,
              "solidity": 0.2
             }
            },
            "type": "histogram"
           }
          ],
          "histogram2d": [
           {
            "colorbar": {
             "outlinewidth": 0,
             "ticks": ""
            },
            "colorscale": [
             [
              0,
              "#0d0887"
             ],
             [
              0.1111111111111111,
              "#46039f"
             ],
             [
              0.2222222222222222,
              "#7201a8"
             ],
             [
              0.3333333333333333,
              "#9c179e"
             ],
             [
              0.4444444444444444,
              "#bd3786"
             ],
             [
              0.5555555555555556,
              "#d8576b"
             ],
             [
              0.6666666666666666,
              "#ed7953"
             ],
             [
              0.7777777777777778,
              "#fb9f3a"
             ],
             [
              0.8888888888888888,
              "#fdca26"
             ],
             [
              1,
              "#f0f921"
             ]
            ],
            "type": "histogram2d"
           }
          ],
          "histogram2dcontour": [
           {
            "colorbar": {
             "outlinewidth": 0,
             "ticks": ""
            },
            "colorscale": [
             [
              0,
              "#0d0887"
             ],
             [
              0.1111111111111111,
              "#46039f"
             ],
             [
              0.2222222222222222,
              "#7201a8"
             ],
             [
              0.3333333333333333,
              "#9c179e"
             ],
             [
              0.4444444444444444,
              "#bd3786"
             ],
             [
              0.5555555555555556,
              "#d8576b"
             ],
             [
              0.6666666666666666,
              "#ed7953"
             ],
             [
              0.7777777777777778,
              "#fb9f3a"
             ],
             [
              0.8888888888888888,
              "#fdca26"
             ],
             [
              1,
              "#f0f921"
             ]
            ],
            "type": "histogram2dcontour"
           }
          ],
          "mesh3d": [
           {
            "colorbar": {
             "outlinewidth": 0,
             "ticks": ""
            },
            "type": "mesh3d"
           }
          ],
          "parcoords": [
           {
            "line": {
             "colorbar": {
              "outlinewidth": 0,
              "ticks": ""
             }
            },
            "type": "parcoords"
           }
          ],
          "pie": [
           {
            "automargin": true,
            "type": "pie"
           }
          ],
          "scatter": [
           {
            "fillpattern": {
             "fillmode": "overlay",
             "size": 10,
             "solidity": 0.2
            },
            "type": "scatter"
           }
          ],
          "scatter3d": [
           {
            "line": {
             "colorbar": {
              "outlinewidth": 0,
              "ticks": ""
             }
            },
            "marker": {
             "colorbar": {
              "outlinewidth": 0,
              "ticks": ""
             }
            },
            "type": "scatter3d"
           }
          ],
          "scattercarpet": [
           {
            "marker": {
             "colorbar": {
              "outlinewidth": 0,
              "ticks": ""
             }
            },
            "type": "scattercarpet"
           }
          ],
          "scattergeo": [
           {
            "marker": {
             "colorbar": {
              "outlinewidth": 0,
              "ticks": ""
             }
            },
            "type": "scattergeo"
           }
          ],
          "scattergl": [
           {
            "marker": {
             "colorbar": {
              "outlinewidth": 0,
              "ticks": ""
             }
            },
            "type": "scattergl"
           }
          ],
          "scattermapbox": [
           {
            "marker": {
             "colorbar": {
              "outlinewidth": 0,
              "ticks": ""
             }
            },
            "type": "scattermapbox"
           }
          ],
          "scatterpolar": [
           {
            "marker": {
             "colorbar": {
              "outlinewidth": 0,
              "ticks": ""
             }
            },
            "type": "scatterpolar"
           }
          ],
          "scatterpolargl": [
           {
            "marker": {
             "colorbar": {
              "outlinewidth": 0,
              "ticks": ""
             }
            },
            "type": "scatterpolargl"
           }
          ],
          "scatterternary": [
           {
            "marker": {
             "colorbar": {
              "outlinewidth": 0,
              "ticks": ""
             }
            },
            "type": "scatterternary"
           }
          ],
          "surface": [
           {
            "colorbar": {
             "outlinewidth": 0,
             "ticks": ""
            },
            "colorscale": [
             [
              0,
              "#0d0887"
             ],
             [
              0.1111111111111111,
              "#46039f"
             ],
             [
              0.2222222222222222,
              "#7201a8"
             ],
             [
              0.3333333333333333,
              "#9c179e"
             ],
             [
              0.4444444444444444,
              "#bd3786"
             ],
             [
              0.5555555555555556,
              "#d8576b"
             ],
             [
              0.6666666666666666,
              "#ed7953"
             ],
             [
              0.7777777777777778,
              "#fb9f3a"
             ],
             [
              0.8888888888888888,
              "#fdca26"
             ],
             [
              1,
              "#f0f921"
             ]
            ],
            "type": "surface"
           }
          ],
          "table": [
           {
            "cells": {
             "fill": {
              "color": "#EBF0F8"
             },
             "line": {
              "color": "white"
             }
            },
            "header": {
             "fill": {
              "color": "#C8D4E3"
             },
             "line": {
              "color": "white"
             }
            },
            "type": "table"
           }
          ]
         },
         "layout": {
          "annotationdefaults": {
           "arrowcolor": "#2a3f5f",
           "arrowhead": 0,
           "arrowwidth": 1
          },
          "autotypenumbers": "strict",
          "coloraxis": {
           "colorbar": {
            "outlinewidth": 0,
            "ticks": ""
           }
          },
          "colorscale": {
           "diverging": [
            [
             0,
             "#8e0152"
            ],
            [
             0.1,
             "#c51b7d"
            ],
            [
             0.2,
             "#de77ae"
            ],
            [
             0.3,
             "#f1b6da"
            ],
            [
             0.4,
             "#fde0ef"
            ],
            [
             0.5,
             "#f7f7f7"
            ],
            [
             0.6,
             "#e6f5d0"
            ],
            [
             0.7,
             "#b8e186"
            ],
            [
             0.8,
             "#7fbc41"
            ],
            [
             0.9,
             "#4d9221"
            ],
            [
             1,
             "#276419"
            ]
           ],
           "sequential": [
            [
             0,
             "#0d0887"
            ],
            [
             0.1111111111111111,
             "#46039f"
            ],
            [
             0.2222222222222222,
             "#7201a8"
            ],
            [
             0.3333333333333333,
             "#9c179e"
            ],
            [
             0.4444444444444444,
             "#bd3786"
            ],
            [
             0.5555555555555556,
             "#d8576b"
            ],
            [
             0.6666666666666666,
             "#ed7953"
            ],
            [
             0.7777777777777778,
             "#fb9f3a"
            ],
            [
             0.8888888888888888,
             "#fdca26"
            ],
            [
             1,
             "#f0f921"
            ]
           ],
           "sequentialminus": [
            [
             0,
             "#0d0887"
            ],
            [
             0.1111111111111111,
             "#46039f"
            ],
            [
             0.2222222222222222,
             "#7201a8"
            ],
            [
             0.3333333333333333,
             "#9c179e"
            ],
            [
             0.4444444444444444,
             "#bd3786"
            ],
            [
             0.5555555555555556,
             "#d8576b"
            ],
            [
             0.6666666666666666,
             "#ed7953"
            ],
            [
             0.7777777777777778,
             "#fb9f3a"
            ],
            [
             0.8888888888888888,
             "#fdca26"
            ],
            [
             1,
             "#f0f921"
            ]
           ]
          },
          "colorway": [
           "#636efa",
           "#EF553B",
           "#00cc96",
           "#ab63fa",
           "#FFA15A",
           "#19d3f3",
           "#FF6692",
           "#B6E880",
           "#FF97FF",
           "#FECB52"
          ],
          "font": {
           "color": "#2a3f5f"
          },
          "geo": {
           "bgcolor": "white",
           "lakecolor": "white",
           "landcolor": "#E5ECF6",
           "showlakes": true,
           "showland": true,
           "subunitcolor": "white"
          },
          "hoverlabel": {
           "align": "left"
          },
          "hovermode": "closest",
          "mapbox": {
           "style": "light"
          },
          "paper_bgcolor": "white",
          "plot_bgcolor": "#E5ECF6",
          "polar": {
           "angularaxis": {
            "gridcolor": "white",
            "linecolor": "white",
            "ticks": ""
           },
           "bgcolor": "#E5ECF6",
           "radialaxis": {
            "gridcolor": "white",
            "linecolor": "white",
            "ticks": ""
           }
          },
          "scene": {
           "xaxis": {
            "backgroundcolor": "#E5ECF6",
            "gridcolor": "white",
            "gridwidth": 2,
            "linecolor": "white",
            "showbackground": true,
            "ticks": "",
            "zerolinecolor": "white"
           },
           "yaxis": {
            "backgroundcolor": "#E5ECF6",
            "gridcolor": "white",
            "gridwidth": 2,
            "linecolor": "white",
            "showbackground": true,
            "ticks": "",
            "zerolinecolor": "white"
           },
           "zaxis": {
            "backgroundcolor": "#E5ECF6",
            "gridcolor": "white",
            "gridwidth": 2,
            "linecolor": "white",
            "showbackground": true,
            "ticks": "",
            "zerolinecolor": "white"
           }
          },
          "shapedefaults": {
           "line": {
            "color": "#2a3f5f"
           }
          },
          "ternary": {
           "aaxis": {
            "gridcolor": "white",
            "linecolor": "white",
            "ticks": ""
           },
           "baxis": {
            "gridcolor": "white",
            "linecolor": "white",
            "ticks": ""
           },
           "bgcolor": "#E5ECF6",
           "caxis": {
            "gridcolor": "white",
            "linecolor": "white",
            "ticks": ""
           }
          },
          "title": {
           "x": 0.05
          },
          "xaxis": {
           "automargin": true,
           "gridcolor": "white",
           "linecolor": "white",
           "ticks": "",
           "title": {
            "standoff": 15
           },
           "zerolinecolor": "white",
           "zerolinewidth": 2
          },
          "yaxis": {
           "automargin": true,
           "gridcolor": "white",
           "linecolor": "white",
           "ticks": "",
           "title": {
            "standoff": 15
           },
           "zerolinecolor": "white",
           "zerolinewidth": 2
          }
         }
        },
        "title": {
         "text": "Text Embeddings Visualization (t-SNE)"
        },
        "width": 1000
       }
      }
     },
     "metadata": {},
     "output_type": "display_data"
    }
   ],
   "source": [
    "# Flatten embeddings: (100, 90, 30522) -> (100, 90*30522)\n",
    "flattened_embeddings = text_embeddings.reshape(len(text_embeddings), -1)\n",
    "\n",
    "# Apply TSNE\n",
    "tsne = TSNE(\n",
    "    n_components=3,\n",
    "    init=\"random\",\n",
    "    random_state=0,\n",
    "    learning_rate=\"auto\",\n",
    "    n_iter=300,\n",
    ")\n",
    "Y = tsne.fit_transform(flattened_embeddings)\n",
    "\n",
    "# Create visualization\n",
    "fig = px.scatter_3d(\n",
    "    x=Y[:, 0],\n",
    "    y=Y[:, 1],\n",
    "    z=Y[:, 2],\n",
    "    color=df.index_name,\n",
    "    hover_data=[df.prod_name, df.product_type_name],\n",
    "    title=\"Text Embeddings Visualization (t-SNE)\",\n",
    "    labels={\"color\": \"Index Category\"},\n",
    "    opacity=0.7,\n",
    ")\n",
    "\n",
    "# Improve layout\n",
    "fig.update_layout(\n",
    "    scene=dict(xaxis_title=\"t-SNE 1\", yaxis_title=\"t-SNE 2\", zaxis_title=\"t-SNE 3\"),\n",
    "    width=1000,\n",
    "    height=800,\n",
    ")\n",
    "\n",
    "fig.show()"
   ]
  }
 ],
 "metadata": {
  "kaggle": {
   "accelerator": "gpu",
   "dataSources": [
    {
     "databundleVersionId": 3103714,
     "sourceId": 31254,
     "sourceType": "competition"
    }
   ],
   "isGpuEnabled": true,
   "isInternetEnabled": true,
   "language": "python",
   "sourceType": "notebook"
  },
  "kernelspec": {
   "display_name": "recsys-2eoFSNDj-py3.11",
   "language": "python",
   "name": "python3"
  },
  "language_info": {
   "codemirror_mode": {
    "name": "ipython",
    "version": 3
   },
   "file_extension": ".py",
   "mimetype": "text/x-python",
   "name": "python",
   "nbconvert_exporter": "python",
   "pygments_lexer": "ipython3",
   "version": "3.11.8"
  }
 },
 "nbformat": 4,
 "nbformat_minor": 4
}
