{
 "cells": [
  {
   "cell_type": "code",
   "execution_count": 1,
   "metadata": {
    "_cell_guid": "b1076dfc-b9ad-4769-8c92-a6c4dae69d19",
    "_uuid": "8f2839f25d086af736a60e9eeb907d3b93b6e0e5",
    "execution": {
     "iopub.execute_input": "2024-12-02T18:24:37.254779Z",
     "iopub.status.busy": "2024-12-02T18:24:37.254083Z",
     "iopub.status.idle": "2024-12-02T18:24:44.613171Z",
     "shell.execute_reply": "2024-12-02T18:24:44.612425Z",
     "shell.execute_reply.started": "2024-12-02T18:24:37.254746Z"
    },
    "trusted": true
   },
   "outputs": [
    {
     "name": "stderr",
     "output_type": "stream",
     "text": [
      "\u001b[32m2024-12-18 01:51:01.679\u001b[0m | \u001b[1mINFO    \u001b[0m | \u001b[36mrecsys.config\u001b[0m:\u001b[36m<module>\u001b[0m:\u001b[36m11\u001b[0m - \u001b[1mPROJ_ROOT path is: /home/artem216/transformer-recsys\u001b[0m\n"
     ]
    }
   ],
   "source": [
    "import math\n",
    "\n",
    "import torch\n",
    "import torch.nn.functional as F\n",
    "from pytorch_lightning import LightningModule\n",
    "from torchvision import models\n",
    "from transformers import get_cosine_schedule_with_warmup\n",
    "from torch.utils.data import Dataset, DataLoader\n",
    "from sklearn.model_selection import train_test_split\n",
    "from transformers import BertTokenizer\n",
    "\n",
    "\n",
    "import plotly.express as px\n",
    "import plotly.graph_objects as go\n",
    "from sklearn.manifold import TSNE\n",
    "\n",
    "import numpy as np\n",
    "import pandas as pd\n",
    "\n",
    "import matplotlib.pyplot as plt\n",
    "\n",
    "import torch\n",
    "from tqdm import tqdm\n",
    "\n",
    "from sklearn.manifold import TSNE\n",
    "\n",
    "\n",
    "from pathlib import Path\n",
    "import os\n",
    "\n",
    "import sys\n",
    "sys.path.append(\"../\")\n",
    "from recsys import config"
   ]
  },
  {
   "cell_type": "code",
   "execution_count": 2,
   "metadata": {},
   "outputs": [],
   "source": [
    "RANDOM_STATE = 23115\n",
    "np.random.seed(RANDOM_STATE)"
   ]
  },
  {
   "cell_type": "code",
   "execution_count": 3,
   "metadata": {
    "execution": {
     "iopub.execute_input": "2024-12-02T18:24:44.614876Z",
     "iopub.status.busy": "2024-12-02T18:24:44.614460Z",
     "iopub.status.idle": "2024-12-02T18:24:45.917875Z",
     "shell.execute_reply": "2024-12-02T18:24:45.917183Z",
     "shell.execute_reply.started": "2024-12-02T18:24:44.614829Z"
    },
    "trusted": true
   },
   "outputs": [],
   "source": [
    "TOKENIZER = BertTokenizer.from_pretrained(\"bert-base-uncased\")\n",
    "\n",
    "CLS_IDX = TOKENIZER.convert_tokens_to_ids(\"[CLS]\")\n",
    "PAD_IDX = TOKENIZER.convert_tokens_to_ids(\"[PAD]\")\n",
    "SEP_IDX = TOKENIZER.convert_tokens_to_ids(\"[SEP]\")\n",
    "\n",
    "\n",
    "vocab_size = TOKENIZER.vocab_size\n",
    "\n",
    "def tokenize(text: str):\n",
    "    raw_tokens = TOKENIZER.encode(text)\n",
    "    return raw_tokens\n",
    "\n",
    "\n",
    "def pad_list(\n",
    "    list_integers, context_size: int = 90, pad_val: int = PAD_IDX, mode=\"right\"\n",
    "):\n",
    "    list_integers = list_integers[:context_size]\n",
    "\n",
    "    if len(list_integers) < context_size:\n",
    "        if mode == \"left\":\n",
    "            list_integers = [pad_val] * (\n",
    "                context_size - len(list_integers)\n",
    "            ) + list_integers\n",
    "        else:\n",
    "            list_integers = list_integers + [pad_val] * (\n",
    "                context_size - len(list_integers)\n",
    "            )\n",
    "\n",
    "    return list_integers"
   ]
  },
  {
   "cell_type": "code",
   "execution_count": 4,
   "metadata": {
    "execution": {
     "iopub.execute_input": "2024-12-02T18:24:45.919213Z",
     "iopub.status.busy": "2024-12-02T18:24:45.918872Z",
     "iopub.status.idle": "2024-12-02T18:24:45.925611Z",
     "shell.execute_reply": "2024-12-02T18:24:45.924702Z",
     "shell.execute_reply.started": "2024-12-02T18:24:45.919167Z"
    },
    "trusted": true
   },
   "outputs": [
    {
     "data": {
      "text/plain": [
       "30522"
      ]
     },
     "execution_count": 4,
     "metadata": {},
     "output_type": "execute_result"
    }
   ],
   "source": [
    "vocab_size"
   ]
  },
  {
   "cell_type": "code",
   "execution_count": 5,
   "metadata": {
    "execution": {
     "iopub.execute_input": "2024-12-02T18:24:45.927685Z",
     "iopub.status.busy": "2024-12-02T18:24:45.927430Z",
     "iopub.status.idle": "2024-12-02T18:24:45.938502Z",
     "shell.execute_reply": "2024-12-02T18:24:45.937639Z",
     "shell.execute_reply.started": "2024-12-02T18:24:45.927660Z"
    },
    "trusted": true
   },
   "outputs": [],
   "source": [
    "class PositionalEncoding(torch.nn.Module):\n",
    "\n",
    "    def __init__(self,\n",
    "            d_model: int,\n",
    "            dropout: float = 0.1,\n",
    "            max_len: int = 5000,\n",
    "        ):\n",
    "        super().__init__()\n",
    "        self.dropout = torch.nn.Dropout(p=dropout)\n",
    "\n",
    "        position = torch.arange(max_len).unsqueeze(1)\n",
    "        div_term = torch.exp(\n",
    "            torch.arange(0, d_model, 2) * (-math.log(10000.0) / d_model)\n",
    "        )\n",
    "        pe = torch.zeros(1, max_len, d_model)\n",
    "        pe[0:, :, 0::2] = torch.sin(position * div_term)\n",
    "        pe[0:, :, 1::2] = torch.cos(position * div_term)\n",
    "        # позиционное кодирование\n",
    "        self.register_buffer(\"pe\", pe)\n",
    "\n",
    "        self.d_model = d_model\n",
    "\n",
    "    def forward(self, x: torch.Tensor) -> torch.Tensor:\n",
    "        \"\"\"\n",
    "        Args:\n",
    "            x: Tensor, shape [seq_len, batch_size, embedding_dim]\n",
    "        \"\"\"\n",
    "\n",
    "        x = x + self.pe[:, : x.size(1)] / math.sqrt(self.d_model)\n",
    "\n",
    "        return self.dropout(x)"
   ]
  },
  {
   "cell_type": "code",
   "execution_count": 6,
   "metadata": {
    "execution": {
     "iopub.execute_input": "2024-12-02T18:24:45.939541Z",
     "iopub.status.busy": "2024-12-02T18:24:45.939316Z",
     "iopub.status.idle": "2024-12-02T18:24:45.954686Z",
     "shell.execute_reply": "2024-12-02T18:24:45.953964Z",
     "shell.execute_reply.started": "2024-12-02T18:24:45.939518Z"
    },
    "trusted": true
   },
   "outputs": [],
   "source": [
    "class Cola(LightningModule):\n",
    "\n",
    "    def __init__(\n",
    "        self,\n",
    "        lr=0.001,\n",
    "        use_pretrained=False,\n",
    "        dropout=0.2,\n",
    "        d_model=128,\n",
    "        n_vocab=30_522,\n",
    "        smoothing=0.1,\n",
    "    ):\n",
    "        super().__init__()\n",
    "        self.dropout = dropout\n",
    "\n",
    "        self.lr = lr\n",
    "        self.d_model = d_model\n",
    "        self.n_vocab = n_vocab\n",
    "        self.smoothing = smoothing\n",
    "\n",
    "        # Text embeddings and encoder\n",
    "        self.item_embeddings = torch.nn.Embedding(self.n_vocab, self.d_model)\n",
    "        self.pos_encoder = PositionalEncoding(\n",
    "            d_model=self.d_model, dropout=self.dropout\n",
    "        )\n",
    "        encoder_layer = torch.nn.TransformerEncoderLayer(\n",
    "            d_model=self.d_model, nhead=4, dropout=self.dropout, batch_first=True\n",
    "        )\n",
    "        self.encoder = torch.nn.TransformerEncoder(encoder_layer, num_layers=4)\n",
    "\n",
    "        # Output layer to project to vocabulary size\n",
    "        self.output_layer = torch.nn.Linear(self.d_model, self.n_vocab)\n",
    "\n",
    "        self.save_hyperparameters()\n",
    "\n",
    "\n",
    "    def encode_text(self, x):\n",
    "        x = self.item_embeddings(x)\n",
    "        x = self.pos_encoder(x)\n",
    "        x = self.encoder(x)\n",
    "        x = self.output_layer(x)  # Add projection to vocab size\n",
    "\n",
    "        return x  # Return full sequence output for language modeling\n",
    "\n",
    "    def forward(self, x):\n",
    "        x = self.item_embeddings(x)\n",
    "        x = self.pos_encoder(x)\n",
    "        x = self.encoder(x)\n",
    "        x = self.output_layer(x)  # Project to vocab size\n",
    "        return x"
   ]
  },
  {
   "cell_type": "markdown",
   "metadata": {},
   "source": [
    "# Dataset"
   ]
  },
  {
   "cell_type": "code",
   "execution_count": 7,
   "metadata": {
    "execution": {
     "iopub.execute_input": "2024-12-02T18:24:45.955979Z",
     "iopub.status.busy": "2024-12-02T18:24:45.955711Z",
     "iopub.status.idle": "2024-12-02T18:24:45.971612Z",
     "shell.execute_reply": "2024-12-02T18:24:45.971020Z",
     "shell.execute_reply.started": "2024-12-02T18:24:45.955955Z"
    },
    "trusted": true
   },
   "outputs": [],
   "source": [
    "class TextDataset(Dataset):\n",
    "    def __init__(self, texts, tokenizer, pad_list):\n",
    "        self.texts = texts\n",
    "        self.tokenizer = tokenizer\n",
    "        self.pad_list = pad_list\n",
    "\n",
    "    def __len__(self):\n",
    "        return len(self.texts)\n",
    "\n",
    "    def __getitem__(self, idx):\n",
    "        text = self.texts[idx]\n",
    "        text_t = self.tokenizer(text)\n",
    "        text_t = torch.tensor(self.pad_list(text_t), dtype=torch.long)\n",
    "        return text_t"
   ]
  },
  {
   "cell_type": "code",
   "execution_count": 9,
   "metadata": {
    "execution": {
     "iopub.execute_input": "2024-12-02T18:24:45.983747Z",
     "iopub.status.busy": "2024-12-02T18:24:45.983494Z",
     "iopub.status.idle": "2024-12-02T18:24:49.761763Z",
     "shell.execute_reply": "2024-12-02T18:24:49.760808Z",
     "shell.execute_reply.started": "2024-12-02T18:24:45.983723Z"
    },
    "trusted": true
   },
   "outputs": [],
   "source": [
    "# Load data\n",
    "df = pd.read_csv(\n",
    "    config.PROCESSED_DATA_DIR / \"articles.csv\",\n",
    "    nrows=None,\n",
    "    dtype={\n",
    "        \"article_id\": str,\n",
    "    },\n",
    ")\n",
    "\n",
    "df[\"text\"] = df.apply(\n",
    "    lambda x: \" \".join(\n",
    "        [\n",
    "            str(x[\"prod_name\"]),\n",
    "            str(x[\"product_type_name\"]),\n",
    "            str(x[\"product_group_name\"]),\n",
    "            str(x[\"graphical_appearance_name\"]),\n",
    "            str(x[\"colour_group_name\"]),\n",
    "            str(x[\"perceived_colour_value_name\"]),\n",
    "            str(x[\"index_name\"]),\n",
    "            str(x[\"section_name\"]),\n",
    "            str(x[\"detail_desc\"]),\n",
    "        ]\n",
    "    ),\n",
    "    axis=1,\n",
    ")"
   ]
  },
  {
   "cell_type": "code",
   "execution_count": 11,
   "metadata": {},
   "outputs": [
    {
     "data": {
      "text/plain": [
       "0      Strap top Vest top Garment Upper body Solid Bl...\n",
       "1      Strap top Vest top Garment Upper body Solid Wh...\n",
       "2      20 den 1p Stockings Underwear Tights Socks & T...\n",
       "3      Shape Up 30 den 1p Tights Leggings/Tights Garm...\n",
       "4      Support 40 den 1p Tights Underwear Tights Sock...\n",
       "                             ...                        \n",
       "995    Glamping Shorts Garment Lower body Solid Black...\n",
       "996    Eleonor button dress Dress Garment Full body S...\n",
       "997    Agneta jumpsuit Trousers Garment Lower body St...\n",
       "998    CS Paula dress Dress Garment Full body Other s...\n",
       "999    STRONG HW seamless tights Leggings/Tights Garm...\n",
       "Name: text, Length: 1000, dtype: object"
      ]
     },
     "execution_count": 11,
     "metadata": {},
     "output_type": "execute_result"
    }
   ],
   "source": [
    "df[\"text\"]"
   ]
  },
  {
   "cell_type": "code",
   "execution_count": 12,
   "metadata": {},
   "outputs": [
    {
     "data": {
      "application/vnd.jupyter.widget-view+json": {
       "model_id": "2ec57655cd7547aea5e3278815a52d58",
       "version_major": 2,
       "version_minor": 0
      },
      "text/plain": [
       "model.safetensors:   0%|          | 0.00/440M [00:00<?, ?B/s]"
      ]
     },
     "metadata": {},
     "output_type": "display_data"
    }
   ],
   "source": [
    "import torch\n",
    "from transformers import AutoTokenizer, AutoModel\n",
    "\n",
    "device = torch.device('cuda' if torch.cuda.is_available() else 'cpu')\n",
    "tokenizer = AutoTokenizer.from_pretrained(\"bert-base-uncased\")\n",
    "model = AutoModel.from_pretrained(\"bert-base-uncased\")\n",
    "model = model.to(device)"
   ]
  },
  {
   "cell_type": "code",
   "execution_count": 14,
   "metadata": {},
   "outputs": [],
   "source": [
    "def get_embeddings(text):\n",
    "    inputs = tokenizer(text, return_tensors=\"pt\", truncation=True, max_length=512, padding='max_length')\n",
    "    inputs = inputs.to(device)\n",
    "    with torch.no_grad():\n",
    "        outputs = model(**inputs)\n",
    "    sentence_embeddings = outputs[0]\n",
    "    sentence_embeddings = sentence_embeddings.mean(dim=1)\n",
    "    sentence_embeddings = sentence_embeddings.cpu().numpy()\n",
    "    return sentence_embeddings[0]"
   ]
  },
  {
   "cell_type": "code",
   "execution_count": 15,
   "metadata": {},
   "outputs": [
    {
     "name": "stderr",
     "output_type": "stream",
     "text": [
      "100%|██████████| 1000/1000 [00:11<00:00, 88.30it/s]\n"
     ]
    }
   ],
   "source": [
    "tqdm.pandas()\n",
    "df['Embed_comb_text'] = df['text'].progress_map(lambda x: get_embeddings(x))"
   ]
  },
  {
   "cell_type": "code",
   "execution_count": 19,
   "metadata": {},
   "outputs": [],
   "source": [
    "df.to_csv(config.PROCESSED_DATA_DIR / \"articles_embedings.csv\")"
   ]
  },
  {
   "cell_type": "code",
   "execution_count": null,
   "metadata": {},
   "outputs": [],
   "source": [
    "from MulticoreTSNE import MulticoreTSNE\n",
    "\n",
    "tsne = MulticoreTSNE(n_jobs=4) \n",
    "embedding_tsne = tsne.fit_transform(np.stack(df['Embed_comb_text'].values))"
   ]
  },
  {
   "cell_type": "markdown",
   "metadata": {},
   "source": [
    "# Train"
   ]
  },
  {
   "cell_type": "code",
   "execution_count": 14,
   "metadata": {},
   "outputs": [],
   "source": [
    "# Split data into train and validation sets\n",
    "train_texts, val_texts = train_test_split(\n",
    "    df[\"text\"].values, test_size=0.2, random_state=42\n",
    ")\n",
    "\n",
    "# Create datasets\n",
    "train_dataset = TextDataset(train_texts, tokenize, pad_list)\n",
    "val_dataset = TextDataset(val_texts, tokenize, pad_list)\n",
    "\n",
    "# Create DataLoaders\n",
    "train_loader = DataLoader(train_dataset, batch_size=128, shuffle=True)\n",
    "val_loader = DataLoader(val_dataset, batch_size=128, shuffle=False)\n",
    "\n",
    "# Initialize model\n",
    "model = Cola(lr=1e-3, n_vocab=vocab_size)\n",
    "device = torch.device(\"cuda\" if torch.cuda.is_available() else \"cpu\")\n",
    "model.to(device)\n",
    "\n",
    "# Define optimizer and loss function\n",
    "optimizer = torch.optim.Adam(model.parameters(), lr=model.lr)\n",
    "criterion = torch.nn.CrossEntropyLoss()"
   ]
  },
  {
   "cell_type": "code",
   "execution_count": 10,
   "metadata": {
    "execution": {
     "iopub.execute_input": "2024-12-02T18:24:49.763308Z",
     "iopub.status.busy": "2024-12-02T18:24:49.762951Z",
     "iopub.status.idle": "2024-12-02T18:24:49.770966Z",
     "shell.execute_reply": "2024-12-02T18:24:49.770101Z",
     "shell.execute_reply.started": "2024-12-02T18:24:49.763268Z"
    },
    "trusted": true
   },
   "outputs": [],
   "source": [
    "def train_model(model, train_loader, val_loader, criterion, optimizer, num_epochs=10) -> tuple[float, float]:\n",
    "    train_loss: float = 0\n",
    "    val_loss: float = 0\n",
    "\n",
    "    for epoch in range(num_epochs):\n",
    "        model.train()\n",
    "        train_loss = 0.0\n",
    "        for texts in train_loader:\n",
    "            texts = texts.to(device)\n",
    "            optimizer.zero_grad()\n",
    "            outputs = model(texts)\n",
    "\n",
    "            targets = texts[:, 1:].contiguous().view(-1)\n",
    "            outputs = outputs[:, :-1].contiguous().view(-1, outputs.size(-1))\n",
    "            loss = criterion(outputs, targets)\n",
    "            loss.backward()\n",
    "            optimizer.step()\n",
    "            train_loss += loss.item() * texts.size(0)\n",
    "\n",
    "        train_loss = train_loss / len(train_loader.dataset)\n",
    "\n",
    "        model.eval()\n",
    "        val_loss = 0.0\n",
    "        with torch.no_grad():\n",
    "            for texts in val_loader:\n",
    "                texts = texts.to(device)\n",
    "                outputs = model(texts)\n",
    "                # In your training loop\n",
    "                targets = texts[:, 1:].contiguous().view(-1)\n",
    "                outputs = outputs[:, :-1, :].contiguous().view(-1, outputs.size(-1))\n",
    "                loss = criterion(outputs, targets)\n",
    "                val_loss += loss.item() * texts.size(0)\n",
    "\n",
    "        val_loss = val_loss / len(val_loader.dataset)\n",
    "\n",
    "        print(\n",
    "            f\"Epoch {epoch+1}/{num_epochs}, Train Loss: {train_loss:.4f}, Val Loss: {val_loss:.4f}\",\n",
    "            end=\"\\r\"\n",
    "        )\n",
    "\n",
    "    return (train_loss, val_loss)"
   ]
  },
  {
   "cell_type": "code",
   "execution_count": 15,
   "metadata": {},
   "outputs": [
    {
     "name": "stdout",
     "output_type": "stream",
     "text": [
      "Epoch 100/100, Train Loss: 0.2713, Val Loss: 0.5675\r"
     ]
    }
   ],
   "source": [
    "# Train the model\n",
    "train_loss, val_loss = train_model(model, train_loader, val_loader, criterion, optimizer, num_epochs=100)"
   ]
  },
  {
   "cell_type": "code",
   "execution_count": 16,
   "metadata": {},
   "outputs": [],
   "source": [
    "model_name = f\"model_{str(train_loss).replace('.', '_')[:5]}_{str(val_loss).replace('.', '_')[:5]}.pth\""
   ]
  },
  {
   "cell_type": "code",
   "execution_count": 17,
   "metadata": {},
   "outputs": [],
   "source": [
    "try:\n",
    "    torch.save(model.state_dict(), config.MODELS_DIR / model_name)\n",
    "except Exception as e:\n",
    "    print(e)"
   ]
  },
  {
   "cell_type": "markdown",
   "metadata": {},
   "source": [
    "# Embeddings results"
   ]
  },
  {
   "cell_type": "code",
   "execution_count": 19,
   "metadata": {},
   "outputs": [],
   "source": [
    "model_name = f\"model_0_271_0_567.pth\""
   ]
  },
  {
   "cell_type": "code",
   "execution_count": 20,
   "metadata": {},
   "outputs": [],
   "source": [
    "MODEL_PATH = config.MODELS_DIR / Path(model_name)"
   ]
  },
  {
   "cell_type": "code",
   "execution_count": 21,
   "metadata": {},
   "outputs": [],
   "source": [
    "from sklearn.manifold import TSNE"
   ]
  },
  {
   "cell_type": "code",
   "execution_count": 22,
   "metadata": {},
   "outputs": [],
   "source": [
    "df = pd.read_csv(\n",
    "    config.PROCESSED_DATA_DIR / \"articles.csv\",\n",
    "    nrows=None,\n",
    "    dtype={\n",
    "        \"article_id\": str,\n",
    "    },\n",
    ")\n",
    "\n",
    "df[\"text\"] = df.apply(\n",
    "    lambda x: \" \".join(\n",
    "        [\n",
    "            str(x[\"prod_name\"]),\n",
    "            str(x[\"product_type_name\"]),\n",
    "            str(x[\"product_group_name\"]),\n",
    "            str(x[\"graphical_appearance_name\"]),\n",
    "            str(x[\"colour_group_name\"]),\n",
    "            str(x[\"perceived_colour_value_name\"]),\n",
    "            str(x[\"index_name\"]),\n",
    "            str(x[\"section_name\"]),\n",
    "            str(x[\"detail_desc\"])\n",
    "        ]\n",
    "    ),\n",
    "    axis=1,\n",
    ")"
   ]
  },
  {
   "cell_type": "code",
   "execution_count": 23,
   "metadata": {},
   "outputs": [
    {
     "name": "stderr",
     "output_type": "stream",
     "text": [
      "/tmp/ipykernel_214763/1331560794.py:5: FutureWarning: You are using `torch.load` with `weights_only=False` (the current default value), which uses the default pickle module implicitly. It is possible to construct malicious pickle data which will execute arbitrary code during unpickling (See https://github.com/pytorch/pytorch/blob/main/SECURITY.md#untrusted-models for more details). In a future release, the default value for `weights_only` will be flipped to `True`. This limits the functions that could be executed during unpickling. Arbitrary objects will no longer be allowed to be loaded via this mode unless they are explicitly allowlisted by the user via `torch.serialization.add_safe_globals`. We recommend you start setting `weights_only=True` for any use case where you don't have full control of the loaded file. Please open an issue on GitHub for any issues related to this experimental feature.\n",
      "  model.load_state_dict(state_dict=torch.load(MODEL_PATH, map_location=device))\n"
     ]
    },
    {
     "data": {
      "text/plain": [
       "Cola(\n",
       "  (item_embeddings): Embedding(30522, 128)\n",
       "  (pos_encoder): PositionalEncoding(\n",
       "    (dropout): Dropout(p=0.2, inplace=False)\n",
       "  )\n",
       "  (encoder): TransformerEncoder(\n",
       "    (layers): ModuleList(\n",
       "      (0-3): 4 x TransformerEncoderLayer(\n",
       "        (self_attn): MultiheadAttention(\n",
       "          (out_proj): NonDynamicallyQuantizableLinear(in_features=128, out_features=128, bias=True)\n",
       "        )\n",
       "        (linear1): Linear(in_features=128, out_features=2048, bias=True)\n",
       "        (dropout): Dropout(p=0.2, inplace=False)\n",
       "        (linear2): Linear(in_features=2048, out_features=128, bias=True)\n",
       "        (norm1): LayerNorm((128,), eps=1e-05, elementwise_affine=True)\n",
       "        (norm2): LayerNorm((128,), eps=1e-05, elementwise_affine=True)\n",
       "        (dropout1): Dropout(p=0.2, inplace=False)\n",
       "        (dropout2): Dropout(p=0.2, inplace=False)\n",
       "      )\n",
       "    )\n",
       "  )\n",
       "  (output_layer): Linear(in_features=128, out_features=30522, bias=True)\n",
       ")"
      ]
     },
     "execution_count": 23,
     "metadata": {},
     "output_type": "execute_result"
    }
   ],
   "source": [
    "model = Cola(lr=1e-3)\n",
    "\n",
    "device = torch.device(\"cuda\" if torch.cuda.is_available() else \"cpu\")\n",
    "\n",
    "model.load_state_dict(state_dict=torch.load(MODEL_PATH, map_location=device))\n",
    "model.to(device)\n",
    "model.eval()"
   ]
  },
  {
   "cell_type": "code",
   "execution_count": null,
   "metadata": {},
   "outputs": [
    {
     "name": "stderr",
     "output_type": "stream",
     "text": [
      " 24%|██▍       | 242/1000 [00:30<02:59,  4.23it/s]"
     ]
    }
   ],
   "source": [
    "text_embeddings = []\n",
    "\n",
    "for text in tqdm(df.text.values, total=len(df)):\n",
    "    text_t = tokenize(text)\n",
    "    text_t = torch.tensor(pad_list(text_t), dtype=torch.long, device=device).unsqueeze(0)\n",
    "\n",
    "    with torch.no_grad():\n",
    "        text_embed = model.encode_text(text_t)\n",
    "        text_embed = text_embed.squeeze().cpu().tolist()\n",
    "\n",
    "    text_embeddings.append(text_embed)\n",
    "\n",
    "text_embeddings = np.array(text_embeddings)"
   ]
  },
  {
   "cell_type": "code",
   "execution_count": null,
   "metadata": {},
   "outputs": [
    {
     "data": {
      "text/plain": [
       "(100, 90, 30522)"
      ]
     },
     "execution_count": 80,
     "metadata": {},
     "output_type": "execute_result"
    }
   ],
   "source": [
    "len(text_embeddings), len(text_embeddings[2]), len(text_embeddings[0][0])"
   ]
  },
  {
   "cell_type": "code",
   "execution_count": null,
   "metadata": {},
   "outputs": [
    {
     "data": {
      "application/vnd.plotly.v1+json": {
       "config": {
        "plotlyServerURL": "https://plot.ly"
       },
       "data": [
        {
         "customdata": [
          [
           "Lazer Razer Brief",
           "Swimwear bottom"
          ],
          [
           "Frenchy push balboa",
           "Bra"
          ],
          [
           "C Jackpot Swimsuit",
           "Swimsuit"
          ],
          [
           "Sweet & Bitter Mid Tie Brief",
           "Swimwear bottom"
          ],
          [
           "Kelly Push (Melbourne) ctn 2p",
           "Bra"
          ],
          [
           "Fake 1p Leggings",
           "Leggings/Tights"
          ],
          [
           "Khloe SP Seamless Andes",
           "Unknown"
          ],
          [
           "Greta Thong Mynta Low 3p",
           "Underwear bottom"
          ],
          [
           "Spanx alot shape Swimsuit",
           "Swimsuit"
          ],
          [
           "Wannabe Superpush",
           "Bikini top"
          ],
          [
           "Fiona brazilian (Acacia) 4p",
           "Underwear bottom"
          ],
          [
           "Buckle Roo Cheeky V-Brief",
           "Swimwear bottom"
          ],
          [
           "This Is Sally Tie Tanga",
           "Swimwear bottom"
          ],
          [
           "3p Sneaker Socks",
           "Socks"
          ],
          [
           "Lazer Razer High Rise Hipster",
           "Swimwear bottom"
          ],
          [
           "Simple as that Cheeky Tanga",
           "Swimwear bottom"
          ],
          [
           "New Girl Wide Side Tanga",
           "Swimwear bottom"
          ],
          [
           "Timeless Push Triangle(1)",
           "Bikini top"
          ],
          [
           "Hazelnut Brazilian Azalea Low",
           "Underwear bottom"
          ],
          [
           "40 den 2p Tights Conscious",
           "Underwear Tights"
          ],
          [
           "2p Samantha Brazilian (Acacia)",
           "Underwear bottom"
          ],
          [
           "Desert Sport Top",
           "Bikini top"
          ],
          [
           "Timeless Highwaist",
           "Swimwear bottom"
          ],
          [
           "The Low Line Highwaist",
           "Swimwear bottom"
          ],
          [
           "Hazelnut Push Melbourne",
           "Bra"
          ],
          [
           "Shake it in Balconette",
           "Bikini top"
          ],
          [
           "+ Coco Highwaist",
           "Swimwear bottom"
          ],
          [
           "Buckle Up Triangle Top",
           "Bikini top"
          ],
          [
           "La la land Bandeau",
           "Bikini top"
          ]
         ],
         "hovertemplate": "Index Category=Lingeries/Tights<br>x=%{x}<br>y=%{y}<br>z=%{z}<br>hover_data_0=%{customdata[0]}<br>hover_data_1=%{customdata[1]}<extra></extra>",
         "legendgroup": "Lingeries/Tights",
         "marker": {
          "color": "#636efa",
          "opacity": 0.7,
          "symbol": "circle"
         },
         "mode": "markers",
         "name": "Lingeries/Tights",
         "scene": "scene",
         "showlegend": true,
         "type": "scatter3d",
         "x": [
          -86.99675750732422,
          112.92510986328125,
          -133.75103759765625,
          -47.87869644165039,
          19.348857879638672,
          29.833227157592773,
          -58.4882926940918,
          -25.92239761352539,
          -98.6598892211914,
          -98.9771499633789,
          34.114418029785156,
          -12.78446102142334,
          -54.47731018066406,
          -55.7664794921875,
          -121.26365661621094,
          112.02798461914062,
          4.56805419921875,
          -55.81184005737305,
          -74.58480834960938,
          42.60122299194336,
          -21.27812385559082,
          38.91596603393555,
          181.13491821289062,
          -33.69805908203125,
          -5.016107082366943,
          -16.294553756713867,
          8.247361183166504,
          27.436603546142578,
          -60.75634002685547
         ],
         "y": [
          -12.083952903747559,
          -17.826560974121094,
          -13.61303424835205,
          55.474727630615234,
          -94.46670532226562,
          -101.77288055419922,
          -21.554393768310547,
          -84.60850524902344,
          36.8881950378418,
          -63.824134826660156,
          -43.260826110839844,
          -70.77888488769531,
          43.81758117675781,
          -78.79835510253906,
          19.046545028686523,
          -31.534351348876953,
          86.73304748535156,
          -91.25222778320312,
          85.68378448486328,
          -104.0765380859375,
          -48.000274658203125,
          89.61224365234375,
          74.15040588378906,
          13.532855033874512,
          140.200439453125,
          -133.7647705078125,
          40.82846450805664,
          70.9830093383789,
          97.84683990478516
         ],
         "z": [
          -38.74193572998047,
          56.21511459350586,
          -12.160191535949707,
          -46.03780746459961,
          -94.64356231689453,
          21.599750518798828,
          68.8765640258789,
          86.64498901367188,
          -55.50830841064453,
          -48.35383605957031,
          -105.19283294677734,
          -3.7109174728393555,
          -8.139429092407227,
          -82.70802307128906,
          64.85545349121094,
          -73.52403259277344,
          -8.476994514465332,
          -27.305316925048828,
          -56.006263732910156,
          -21.960283279418945,
          -98.1262435913086,
          19.577720642089844,
          -103.4468002319336,
          -31.05446434020996,
          -10.897008895874023,
          -7.6028151512146,
          123.35246276855469,
          83.74339294433594,
          57.734378814697266
         ]
        },
        {
         "customdata": [
          [
           "Brit Baby Tee",
           "T-shirt"
          ],
          [
           "Skinny H.W Ankle Queens",
           "Trousers"
          ],
          [
           "Tess Tee.",
           "T-shirt"
          ],
          [
           "Melody dress",
           "Dress"
          ],
          [
           "STAR western belt",
           "Belt"
          ],
          [
           "Cat Tee.",
           "T-shirt"
          ],
          [
           "Salvador dress",
           "Dress"
          ],
          [
           "Sonja sweater dress",
           "Dress"
          ],
          [
           "Sky HW jogger",
           "Trousers"
          ],
          [
           "Perrie Trash HW Denim TRS",
           "Trousers"
          ],
          [
           "Maja HW  WovenTRS",
           "Trousers"
          ],
          [
           "Tess Tee.",
           "T-shirt"
          ],
          [
           "Mini Flare HW Bronx",
           "Trousers"
          ],
          [
           "GRETA SKIRT",
           "Skirt"
          ],
          [
           "Julia RW Skinny Denim TRS",
           "Trousers"
          ],
          [
           "Jade HW Skinny Denim TRS",
           "Trousers"
          ],
          [
           "Julia RW Denim TRS",
           "Trousers"
          ],
          [
           "Tilda tank",
           "Vest top"
          ],
          [
           "ALEXA COMPONENT BAG",
           "Bag"
          ],
          [
           "Brooke Shorts R.W",
           "Shorts"
          ],
          [
           "Tilda tank",
           "Vest top"
          ],
          [
           "Therese tee",
           "T-shirt"
          ],
          [
           "Julia RW Skinny Denim TRS",
           "Trousers"
          ],
          [
           "S.Skinny L.W Epic",
           "Trousers"
          ],
          [
           "Skinny H.W Air",
           "Trousers"
          ]
         ],
         "hovertemplate": "Index Category=Divided<br>x=%{x}<br>y=%{y}<br>z=%{z}<br>hover_data_0=%{customdata[0]}<br>hover_data_1=%{customdata[1]}<extra></extra>",
         "legendgroup": "Divided",
         "marker": {
          "color": "#EF553B",
          "opacity": 0.7,
          "symbol": "circle"
         },
         "mode": "markers",
         "name": "Divided",
         "scene": "scene",
         "showlegend": true,
         "type": "scatter3d",
         "x": [
          8.740283966064453,
          36.481475830078125,
          16.12998390197754,
          -28.873126983642578,
          -112.60958099365234,
          81.45416259765625,
          -86.54524993896484,
          -68.33416748046875,
          54.661434173583984,
          -3.5503647327423096,
          -16.480628967285156,
          -21.373159408569336,
          -19.325084686279297,
          57.232906341552734,
          73.16944122314453,
          35.008628845214844,
          28.280502319335938,
          98.8963623046875,
          -89.3974838256836,
          63.22311019897461,
          79.26949310302734,
          37.83015060424805,
          -55.978363037109375,
          76.71744537353516,
          14.159557342529297
         ],
         "y": [
          49.80573654174805,
          -52.88053894042969,
          17.699369430541992,
          77.79215240478516,
          -56.73889923095703,
          83.62267303466797,
          -56.889835357666016,
          30.324060440063477,
          -40.13328552246094,
          112.92982482910156,
          -9.424345016479492,
          -100.3644790649414,
          13.436637878417969,
          -24.64508056640625,
          16.528650283813477,
          67.04093933105469,
          -63.53672790527344,
          22.4954833984375,
          -65.5323715209961,
          93.91677856445312,
          14.963562965393066,
          -7.276354789733887,
          20.021018981933594,
          -80.45408630371094,
          -54.396148681640625
         ],
         "z": [
          -27.952917098999023,
          -20.042903900146484,
          58.57961654663086,
          14.678361892700195,
          40.383583068847656,
          15.453378677368164,
          91.30353546142578,
          76.01661682128906,
          98.9594497680664,
          92.39364624023438,
          43.16172409057617,
          38.15948486328125,
          90.50586700439453,
          -53.24363327026367,
          62.81798553466797,
          -82.97355651855469,
          61.08091354370117,
          -59.10612106323242,
          9.284258842468262,
          -43.20304870605469,
          -81.37584686279297,
          7.031328201293945,
          -76.8635482788086,
          -60.565277099609375,
          -47.65355682373047
         ]
        },
        {
         "customdata": [
          [
           "Isabella shirt",
           "Shirt"
          ],
          [
           "Lucy blouse",
           "Shirt"
          ],
          [
           "Agnes LS R-neck",
           "T-shirt"
          ],
          [
           "Rebecca or Delphine shirt",
           "Shirt"
          ],
          [
           "Amanda Rib",
           "Vest top"
          ],
          [
           "Calista (1)",
           "Cardigan"
          ],
          [
           "Tilly (1)",
           "T-shirt"
          ],
          [
           "Lage",
           "Top"
          ],
          [
           "Tilly (1)",
           "T-shirt"
          ],
          [
           "Strap top",
           "Vest top"
          ],
          [
           "ED Pamela (1)",
           "Shorts"
          ],
          [
           "Bow HW paperwaist",
           "Trousers"
          ],
          [
           "CSP Grace body",
           "Top"
          ],
          [
           "Raymond fleece",
           "Top"
          ],
          [
           "Brody",
           "T-shirt"
          ],
          [
           "Mini Flare R.W Utility",
           "Trousers"
          ],
          [
           "Techno",
           "Sweater"
          ],
          [
           "Tove",
           "Top"
          ],
          [
           "claudine",
           "T-shirt"
          ],
          [
           "Fox (1)",
           "Leggings/Tights"
          ],
          [
           "V-neck strap top",
           "Vest top"
          ],
          [
           "Strap top",
           "Vest top"
          ],
          [
           "Villi Body",
           "Top"
          ],
          [
           "Ridge",
           "Sweater"
          ],
          [
           "Thyme top",
           "Top"
          ],
          [
           "Sorrel(1)",
           "Dress"
          ],
          [
           "Enter",
           "Trousers"
          ],
          [
           "ED Long leggings",
           "Leggings/Tights"
          ],
          [
           "Sadie Shirt",
           "Shirt"
          ],
          [
           "Madison skinny HW (1)",
           "Trousers"
          ],
          [
           "Talia (1)",
           "T-shirt"
          ],
          [
           "Lucy blouse",
           "Shirt"
          ],
          [
           "Camille Cardigan",
           "Cardigan"
          ],
          [
           "Kajsa HW",
           "Shorts"
          ],
          [
           "Jennifer tee",
           "Top"
          ],
          [
           "Luna skinny RW",
           "Trousers"
          ],
          [
           "Billie",
           "T-shirt"
          ],
          [
           "Kanta slacks RW",
           "Trousers"
          ],
          [
           "Flora(1)",
           "Jumpsuit/Playsuit"
          ],
          [
           "Henry polo. (1)",
           "Sweater"
          ]
         ],
         "hovertemplate": "Index Category=Ladieswear<br>x=%{x}<br>y=%{y}<br>z=%{z}<br>hover_data_0=%{customdata[0]}<br>hover_data_1=%{customdata[1]}<extra></extra>",
         "legendgroup": "Ladieswear",
         "marker": {
          "color": "#00cc96",
          "opacity": 0.7,
          "symbol": "circle"
         },
         "mode": "markers",
         "name": "Ladieswear",
         "scene": "scene",
         "showlegend": true,
         "type": "scatter3d",
         "x": [
          -109.05237579345703,
          -10.68289566040039,
          45.686988830566406,
          14.68000602722168,
          23.346677780151367,
          -58.231529235839844,
          14.141581535339355,
          51.668373107910156,
          42.21607208251953,
          57.65481948852539,
          -19.898263931274414,
          -40.17549133300781,
          112.05274200439453,
          75.42597961425781,
          96.65438842773438,
          -75.96993255615234,
          14.234384536743164,
          107.85448455810547,
          28.135360717773438,
          2.687828302383423,
          29.953981399536133,
          57.19464874267578,
          -14.173450469970703,
          -10.579190254211426,
          71.66362762451172,
          34.78742599487305,
          82.7000503540039,
          4.698617458343506,
          135.99066162109375,
          -69.27706146240234,
          0.6252362728118896,
          -0.4513007402420044,
          -46.96965026855469,
          -19.31537437438965,
          -30.872642517089844,
          48.48750686645508,
          70.94547271728516,
          75.7828598022461,
          -21.342607498168945,
          -12.701347351074219
         ],
         "y": [
          34.90663528442383,
          -99.48554992675781,
          51.95827865600586,
          -3.864880323410034,
          37.906463623046875,
          -0.9617754817008972,
          -42.5705451965332,
          41.0343017578125,
          -15.200201988220215,
          23.13939666748047,
          71.7735595703125,
          -31.994367599487305,
          42.47846221923828,
          -34.723114013671875,
          24.429065704345703,
          91.36016082763672,
          -16.147109985351562,
          60.41063690185547,
          19.65407943725586,
          -132.81494140625,
          15.141816139221191,
          49.175048828125,
          24.588048934936523,
          37.43918991088867,
          84.72555541992188,
          41.36732864379883,
          -83.53939056396484,
          93.05108642578125,
          -18.826976776123047,
          51.10085678100586,
          -18.555316925048828,
          109.51032257080078,
          -29.87420654296875,
          51.81635665893555,
          -53.44599151611328,
          14.158609390258789,
          2.9169211387634277,
          -67.08385467529297,
          -9.004705429077148,
          0.7610515356063843
         ],
         "z": [
          -0.6355727910995483,
          -52.276893615722656,
          46.629268646240234,
          -43.37811279296875,
          13.60799503326416,
          15.343642234802246,
          23.169191360473633,
          -41.7649040222168,
          46.1188850402832,
          17.26811981201172,
          -108.52825927734375,
          -50.57881546020508,
          41.14375686645508,
          18.701677322387695,
          -2.5321457386016846,
          2.2106268405914307,
          138.1573944091797,
          -22.386938095092773,
          -20.15099334716797,
          90.78546142578125,
          -80.9707260131836,
          0.36891576647758484,
          10.63726806640625,
          -71.63722229003906,
          75.4834976196289,
          -126.82727813720703,
          17.721519470214844,
          -53.899959564208984,
          -1.7831276655197144,
          31.989961624145508,
          -4.56084680557251,
          41.28308868408203,
          -1.5912115573883057,
          53.475704193115234,
          36.05265808105469,
          102.6754379272461,
          -18.111129760742188,
          66.34465789794922,
          -130.25523376464844,
          -78.24141693115234
         ]
        },
        {
         "customdata": [
          [
           "PETAR SWEATSHIRT",
           "Sweater"
          ],
          [
           "RICHIE HOOD",
           "Hoodie"
          ]
         ],
         "hovertemplate": "Index Category=Menswear<br>x=%{x}<br>y=%{y}<br>z=%{z}<br>hover_data_0=%{customdata[0]}<br>hover_data_1=%{customdata[1]}<extra></extra>",
         "legendgroup": "Menswear",
         "marker": {
          "color": "#ab63fa",
          "opacity": 0.7,
          "symbol": "circle"
         },
         "mode": "markers",
         "name": "Menswear",
         "scene": "scene",
         "showlegend": true,
         "type": "scatter3d",
         "x": [
          -39.43915557861328,
          -43.036041259765625
         ],
         "y": [
          -29.934022903442383,
          61.299922943115234
         ],
         "z": [
          118.67083740234375,
          109.45307922363281
         ]
        },
        {
         "customdata": [
          [
           "Izzy tee",
           "T-shirt"
          ],
          [
           "Apollo seamless HW tights",
           "Leggings/Tights"
          ]
         ],
         "hovertemplate": "Index Category=Sport<br>x=%{x}<br>y=%{y}<br>z=%{z}<br>hover_data_0=%{customdata[0]}<br>hover_data_1=%{customdata[1]}<extra></extra>",
         "legendgroup": "Sport",
         "marker": {
          "color": "#FFA15A",
          "opacity": 0.7,
          "symbol": "circle"
         },
         "mode": "markers",
         "name": "Sport",
         "scene": "scene",
         "showlegend": true,
         "type": "scatter3d",
         "x": [
          94.91645812988281,
          -81.42891693115234
         ],
         "y": [
          -44.47026443481445,
          -15.650590896606445
         ],
         "z": [
          -23.189353942871094,
          -98.40377807617188
         ]
        },
        {
         "customdata": [
          [
           "Suzuki shopper",
           "Bag"
          ],
          [
           "GLASSIG ESPADRILLE",
           "Ballerinas"
          ]
         ],
         "hovertemplate": "Index Category=Ladies Accessories<br>x=%{x}<br>y=%{y}<br>z=%{z}<br>hover_data_0=%{customdata[0]}<br>hover_data_1=%{customdata[1]}<extra></extra>",
         "legendgroup": "Ladies Accessories",
         "marker": {
          "color": "#19d3f3",
          "opacity": 0.7,
          "symbol": "circle"
         },
         "mode": "markers",
         "name": "Ladies Accessories",
         "scene": "scene",
         "showlegend": true,
         "type": "scatter3d",
         "x": [
          -2.0399410724639893,
          -92.1876449584961
         ],
         "y": [
          -36.283477783203125,
          -8.829444885253906
         ],
         "z": [
          89.17040252685547,
          29.703983306884766
         ]
        }
       ],
       "layout": {
        "height": 800,
        "legend": {
         "title": {
          "text": "Index Category"
         },
         "tracegroupgap": 0
        },
        "scene": {
         "domain": {
          "x": [
           0,
           1
          ],
          "y": [
           0,
           1
          ]
         },
         "xaxis": {
          "title": {
           "text": "t-SNE 1"
          }
         },
         "yaxis": {
          "title": {
           "text": "t-SNE 2"
          }
         },
         "zaxis": {
          "title": {
           "text": "t-SNE 3"
          }
         }
        },
        "template": {
         "data": {
          "bar": [
           {
            "error_x": {
             "color": "#2a3f5f"
            },
            "error_y": {
             "color": "#2a3f5f"
            },
            "marker": {
             "line": {
              "color": "#E5ECF6",
              "width": 0.5
             },
             "pattern": {
              "fillmode": "overlay",
              "size": 10,
              "solidity": 0.2
             }
            },
            "type": "bar"
           }
          ],
          "barpolar": [
           {
            "marker": {
             "line": {
              "color": "#E5ECF6",
              "width": 0.5
             },
             "pattern": {
              "fillmode": "overlay",
              "size": 10,
              "solidity": 0.2
             }
            },
            "type": "barpolar"
           }
          ],
          "carpet": [
           {
            "aaxis": {
             "endlinecolor": "#2a3f5f",
             "gridcolor": "white",
             "linecolor": "white",
             "minorgridcolor": "white",
             "startlinecolor": "#2a3f5f"
            },
            "baxis": {
             "endlinecolor": "#2a3f5f",
             "gridcolor": "white",
             "linecolor": "white",
             "minorgridcolor": "white",
             "startlinecolor": "#2a3f5f"
            },
            "type": "carpet"
           }
          ],
          "choropleth": [
           {
            "colorbar": {
             "outlinewidth": 0,
             "ticks": ""
            },
            "type": "choropleth"
           }
          ],
          "contour": [
           {
            "colorbar": {
             "outlinewidth": 0,
             "ticks": ""
            },
            "colorscale": [
             [
              0,
              "#0d0887"
             ],
             [
              0.1111111111111111,
              "#46039f"
             ],
             [
              0.2222222222222222,
              "#7201a8"
             ],
             [
              0.3333333333333333,
              "#9c179e"
             ],
             [
              0.4444444444444444,
              "#bd3786"
             ],
             [
              0.5555555555555556,
              "#d8576b"
             ],
             [
              0.6666666666666666,
              "#ed7953"
             ],
             [
              0.7777777777777778,
              "#fb9f3a"
             ],
             [
              0.8888888888888888,
              "#fdca26"
             ],
             [
              1,
              "#f0f921"
             ]
            ],
            "type": "contour"
           }
          ],
          "contourcarpet": [
           {
            "colorbar": {
             "outlinewidth": 0,
             "ticks": ""
            },
            "type": "contourcarpet"
           }
          ],
          "heatmap": [
           {
            "colorbar": {
             "outlinewidth": 0,
             "ticks": ""
            },
            "colorscale": [
             [
              0,
              "#0d0887"
             ],
             [
              0.1111111111111111,
              "#46039f"
             ],
             [
              0.2222222222222222,
              "#7201a8"
             ],
             [
              0.3333333333333333,
              "#9c179e"
             ],
             [
              0.4444444444444444,
              "#bd3786"
             ],
             [
              0.5555555555555556,
              "#d8576b"
             ],
             [
              0.6666666666666666,
              "#ed7953"
             ],
             [
              0.7777777777777778,
              "#fb9f3a"
             ],
             [
              0.8888888888888888,
              "#fdca26"
             ],
             [
              1,
              "#f0f921"
             ]
            ],
            "type": "heatmap"
           }
          ],
          "heatmapgl": [
           {
            "colorbar": {
             "outlinewidth": 0,
             "ticks": ""
            },
            "colorscale": [
             [
              0,
              "#0d0887"
             ],
             [
              0.1111111111111111,
              "#46039f"
             ],
             [
              0.2222222222222222,
              "#7201a8"
             ],
             [
              0.3333333333333333,
              "#9c179e"
             ],
             [
              0.4444444444444444,
              "#bd3786"
             ],
             [
              0.5555555555555556,
              "#d8576b"
             ],
             [
              0.6666666666666666,
              "#ed7953"
             ],
             [
              0.7777777777777778,
              "#fb9f3a"
             ],
             [
              0.8888888888888888,
              "#fdca26"
             ],
             [
              1,
              "#f0f921"
             ]
            ],
            "type": "heatmapgl"
           }
          ],
          "histogram": [
           {
            "marker": {
             "pattern": {
              "fillmode": "overlay",
              "size": 10,
              "solidity": 0.2
             }
            },
            "type": "histogram"
           }
          ],
          "histogram2d": [
           {
            "colorbar": {
             "outlinewidth": 0,
             "ticks": ""
            },
            "colorscale": [
             [
              0,
              "#0d0887"
             ],
             [
              0.1111111111111111,
              "#46039f"
             ],
             [
              0.2222222222222222,
              "#7201a8"
             ],
             [
              0.3333333333333333,
              "#9c179e"
             ],
             [
              0.4444444444444444,
              "#bd3786"
             ],
             [
              0.5555555555555556,
              "#d8576b"
             ],
             [
              0.6666666666666666,
              "#ed7953"
             ],
             [
              0.7777777777777778,
              "#fb9f3a"
             ],
             [
              0.8888888888888888,
              "#fdca26"
             ],
             [
              1,
              "#f0f921"
             ]
            ],
            "type": "histogram2d"
           }
          ],
          "histogram2dcontour": [
           {
            "colorbar": {
             "outlinewidth": 0,
             "ticks": ""
            },
            "colorscale": [
             [
              0,
              "#0d0887"
             ],
             [
              0.1111111111111111,
              "#46039f"
             ],
             [
              0.2222222222222222,
              "#7201a8"
             ],
             [
              0.3333333333333333,
              "#9c179e"
             ],
             [
              0.4444444444444444,
              "#bd3786"
             ],
             [
              0.5555555555555556,
              "#d8576b"
             ],
             [
              0.6666666666666666,
              "#ed7953"
             ],
             [
              0.7777777777777778,
              "#fb9f3a"
             ],
             [
              0.8888888888888888,
              "#fdca26"
             ],
             [
              1,
              "#f0f921"
             ]
            ],
            "type": "histogram2dcontour"
           }
          ],
          "mesh3d": [
           {
            "colorbar": {
             "outlinewidth": 0,
             "ticks": ""
            },
            "type": "mesh3d"
           }
          ],
          "parcoords": [
           {
            "line": {
             "colorbar": {
              "outlinewidth": 0,
              "ticks": ""
             }
            },
            "type": "parcoords"
           }
          ],
          "pie": [
           {
            "automargin": true,
            "type": "pie"
           }
          ],
          "scatter": [
           {
            "fillpattern": {
             "fillmode": "overlay",
             "size": 10,
             "solidity": 0.2
            },
            "type": "scatter"
           }
          ],
          "scatter3d": [
           {
            "line": {
             "colorbar": {
              "outlinewidth": 0,
              "ticks": ""
             }
            },
            "marker": {
             "colorbar": {
              "outlinewidth": 0,
              "ticks": ""
             }
            },
            "type": "scatter3d"
           }
          ],
          "scattercarpet": [
           {
            "marker": {
             "colorbar": {
              "outlinewidth": 0,
              "ticks": ""
             }
            },
            "type": "scattercarpet"
           }
          ],
          "scattergeo": [
           {
            "marker": {
             "colorbar": {
              "outlinewidth": 0,
              "ticks": ""
             }
            },
            "type": "scattergeo"
           }
          ],
          "scattergl": [
           {
            "marker": {
             "colorbar": {
              "outlinewidth": 0,
              "ticks": ""
             }
            },
            "type": "scattergl"
           }
          ],
          "scattermapbox": [
           {
            "marker": {
             "colorbar": {
              "outlinewidth": 0,
              "ticks": ""
             }
            },
            "type": "scattermapbox"
           }
          ],
          "scatterpolar": [
           {
            "marker": {
             "colorbar": {
              "outlinewidth": 0,
              "ticks": ""
             }
            },
            "type": "scatterpolar"
           }
          ],
          "scatterpolargl": [
           {
            "marker": {
             "colorbar": {
              "outlinewidth": 0,
              "ticks": ""
             }
            },
            "type": "scatterpolargl"
           }
          ],
          "scatterternary": [
           {
            "marker": {
             "colorbar": {
              "outlinewidth": 0,
              "ticks": ""
             }
            },
            "type": "scatterternary"
           }
          ],
          "surface": [
           {
            "colorbar": {
             "outlinewidth": 0,
             "ticks": ""
            },
            "colorscale": [
             [
              0,
              "#0d0887"
             ],
             [
              0.1111111111111111,
              "#46039f"
             ],
             [
              0.2222222222222222,
              "#7201a8"
             ],
             [
              0.3333333333333333,
              "#9c179e"
             ],
             [
              0.4444444444444444,
              "#bd3786"
             ],
             [
              0.5555555555555556,
              "#d8576b"
             ],
             [
              0.6666666666666666,
              "#ed7953"
             ],
             [
              0.7777777777777778,
              "#fb9f3a"
             ],
             [
              0.8888888888888888,
              "#fdca26"
             ],
             [
              1,
              "#f0f921"
             ]
            ],
            "type": "surface"
           }
          ],
          "table": [
           {
            "cells": {
             "fill": {
              "color": "#EBF0F8"
             },
             "line": {
              "color": "white"
             }
            },
            "header": {
             "fill": {
              "color": "#C8D4E3"
             },
             "line": {
              "color": "white"
             }
            },
            "type": "table"
           }
          ]
         },
         "layout": {
          "annotationdefaults": {
           "arrowcolor": "#2a3f5f",
           "arrowhead": 0,
           "arrowwidth": 1
          },
          "autotypenumbers": "strict",
          "coloraxis": {
           "colorbar": {
            "outlinewidth": 0,
            "ticks": ""
           }
          },
          "colorscale": {
           "diverging": [
            [
             0,
             "#8e0152"
            ],
            [
             0.1,
             "#c51b7d"
            ],
            [
             0.2,
             "#de77ae"
            ],
            [
             0.3,
             "#f1b6da"
            ],
            [
             0.4,
             "#fde0ef"
            ],
            [
             0.5,
             "#f7f7f7"
            ],
            [
             0.6,
             "#e6f5d0"
            ],
            [
             0.7,
             "#b8e186"
            ],
            [
             0.8,
             "#7fbc41"
            ],
            [
             0.9,
             "#4d9221"
            ],
            [
             1,
             "#276419"
            ]
           ],
           "sequential": [
            [
             0,
             "#0d0887"
            ],
            [
             0.1111111111111111,
             "#46039f"
            ],
            [
             0.2222222222222222,
             "#7201a8"
            ],
            [
             0.3333333333333333,
             "#9c179e"
            ],
            [
             0.4444444444444444,
             "#bd3786"
            ],
            [
             0.5555555555555556,
             "#d8576b"
            ],
            [
             0.6666666666666666,
             "#ed7953"
            ],
            [
             0.7777777777777778,
             "#fb9f3a"
            ],
            [
             0.8888888888888888,
             "#fdca26"
            ],
            [
             1,
             "#f0f921"
            ]
           ],
           "sequentialminus": [
            [
             0,
             "#0d0887"
            ],
            [
             0.1111111111111111,
             "#46039f"
            ],
            [
             0.2222222222222222,
             "#7201a8"
            ],
            [
             0.3333333333333333,
             "#9c179e"
            ],
            [
             0.4444444444444444,
             "#bd3786"
            ],
            [
             0.5555555555555556,
             "#d8576b"
            ],
            [
             0.6666666666666666,
             "#ed7953"
            ],
            [
             0.7777777777777778,
             "#fb9f3a"
            ],
            [
             0.8888888888888888,
             "#fdca26"
            ],
            [
             1,
             "#f0f921"
            ]
           ]
          },
          "colorway": [
           "#636efa",
           "#EF553B",
           "#00cc96",
           "#ab63fa",
           "#FFA15A",
           "#19d3f3",
           "#FF6692",
           "#B6E880",
           "#FF97FF",
           "#FECB52"
          ],
          "font": {
           "color": "#2a3f5f"
          },
          "geo": {
           "bgcolor": "white",
           "lakecolor": "white",
           "landcolor": "#E5ECF6",
           "showlakes": true,
           "showland": true,
           "subunitcolor": "white"
          },
          "hoverlabel": {
           "align": "left"
          },
          "hovermode": "closest",
          "mapbox": {
           "style": "light"
          },
          "paper_bgcolor": "white",
          "plot_bgcolor": "#E5ECF6",
          "polar": {
           "angularaxis": {
            "gridcolor": "white",
            "linecolor": "white",
            "ticks": ""
           },
           "bgcolor": "#E5ECF6",
           "radialaxis": {
            "gridcolor": "white",
            "linecolor": "white",
            "ticks": ""
           }
          },
          "scene": {
           "xaxis": {
            "backgroundcolor": "#E5ECF6",
            "gridcolor": "white",
            "gridwidth": 2,
            "linecolor": "white",
            "showbackground": true,
            "ticks": "",
            "zerolinecolor": "white"
           },
           "yaxis": {
            "backgroundcolor": "#E5ECF6",
            "gridcolor": "white",
            "gridwidth": 2,
            "linecolor": "white",
            "showbackground": true,
            "ticks": "",
            "zerolinecolor": "white"
           },
           "zaxis": {
            "backgroundcolor": "#E5ECF6",
            "gridcolor": "white",
            "gridwidth": 2,
            "linecolor": "white",
            "showbackground": true,
            "ticks": "",
            "zerolinecolor": "white"
           }
          },
          "shapedefaults": {
           "line": {
            "color": "#2a3f5f"
           }
          },
          "ternary": {
           "aaxis": {
            "gridcolor": "white",
            "linecolor": "white",
            "ticks": ""
           },
           "baxis": {
            "gridcolor": "white",
            "linecolor": "white",
            "ticks": ""
           },
           "bgcolor": "#E5ECF6",
           "caxis": {
            "gridcolor": "white",
            "linecolor": "white",
            "ticks": ""
           }
          },
          "title": {
           "x": 0.05
          },
          "xaxis": {
           "automargin": true,
           "gridcolor": "white",
           "linecolor": "white",
           "ticks": "",
           "title": {
            "standoff": 15
           },
           "zerolinecolor": "white",
           "zerolinewidth": 2
          },
          "yaxis": {
           "automargin": true,
           "gridcolor": "white",
           "linecolor": "white",
           "ticks": "",
           "title": {
            "standoff": 15
           },
           "zerolinecolor": "white",
           "zerolinewidth": 2
          }
         }
        },
        "title": {
         "text": "Text Embeddings Visualization (t-SNE)"
        },
        "width": 1000
       }
      }
     },
     "metadata": {},
     "output_type": "display_data"
    }
   ],
   "source": [
    "# Flatten embeddings: (100, 90, 30522) -> (100, 90*30522)\n",
    "flattened_embeddings = text_embeddings.reshape(len(text_embeddings), -1)\n",
    "\n",
    "# Apply TSNE\n",
    "tsne = TSNE(\n",
    "    n_components=3,\n",
    "    init=\"random\",\n",
    "    random_state=0,\n",
    "    learning_rate=\"auto\",\n",
    "    # n_iter=300,\n",
    ")\n",
    "Y = tsne.fit_transform(flattened_embeddings)\n",
    "\n",
    "# Create visualization\n",
    "fig = px.scatter_3d(\n",
    "    x=Y[:, 0],\n",
    "    y=Y[:, 1],\n",
    "    z=Y[:, 2],\n",
    "    color=df.index_name,\n",
    "    hover_data=[df.prod_name, df.product_type_name],\n",
    "    title=\"Text Embeddings Visualization (t-SNE)\",\n",
    "    labels={\"color\": \"Index Category\"},\n",
    "    opacity=0.7,\n",
    ")\n",
    "\n",
    "# Improve layout\n",
    "fig.update_layout(\n",
    "    scene=dict(xaxis_title=\"t-SNE 1\", yaxis_title=\"t-SNE 2\", zaxis_title=\"t-SNE 3\"),\n",
    "    width=1000,\n",
    "    height=800,\n",
    ")\n",
    "\n",
    "fig.show()"
   ]
  }
 ],
 "metadata": {
  "kaggle": {
   "accelerator": "gpu",
   "dataSources": [
    {
     "databundleVersionId": 3103714,
     "sourceId": 31254,
     "sourceType": "competition"
    }
   ],
   "isGpuEnabled": true,
   "isInternetEnabled": true,
   "language": "python",
   "sourceType": "notebook"
  },
  "kernelspec": {
   "display_name": "recsys-zYxsoNGC-py3.11",
   "language": "python",
   "name": "python3"
  },
  "language_info": {
   "codemirror_mode": {
    "name": "ipython",
    "version": 3
   },
   "file_extension": ".py",
   "mimetype": "text/x-python",
   "name": "python",
   "nbconvert_exporter": "python",
   "pygments_lexer": "ipython3",
   "version": "3.11.11"
  }
 },
 "nbformat": 4,
 "nbformat_minor": 4
}
